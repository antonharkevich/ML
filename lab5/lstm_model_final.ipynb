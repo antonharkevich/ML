{
 "cells": [
  {
   "cell_type": "code",
   "execution_count": 1,
   "id": "180db66c-7b6d-4ee8-8721-ea0a42b0ab92",
   "metadata": {},
   "outputs": [],
   "source": [
    "#necessary imports\n",
    "from binance.client import Client\n",
    "import time\n",
    "import numpy as np\n",
    "import pandas as pd\n",
    "from sklearn.preprocessing import MinMaxScaler\n",
    "import tensorflow as tf\n",
    "from tensorflow.keras.models import Sequential\n",
    "from tensorflow.keras.layers import Dense, Dropout, LSTM"
   ]
  },
  {
   "cell_type": "code",
   "execution_count": 2,
   "id": "e45274b2-9a20-4a40-a08f-768eac697da3",
   "metadata": {},
   "outputs": [],
   "source": [
    "#client for work with binance\n",
    "client = Client()\n",
    "\n",
    "#all history for model \n",
    "lookback_days = 60\n",
    "\n",
    "#8 hours previous information for each prediction\n",
    "lookback_interval = 16\n",
    "\n",
    "#bitcoin\n",
    "symbol = 'BTCUSDT'\n",
    "\n",
    "#information with a price in 30 minute steps\n",
    "interval = client.KLINE_INTERVAL_30MINUTE    \n",
    "\n",
    "#initialize dataframe with data from binance\n",
    "all_data = pd.DataFrame()\n",
    "\n",
    "#start and end time for 60 days history\n",
    "end_time = pd.Timestamp.now()\n",
    "start_time = end_time - pd.Timedelta(days = lookback_days)\n",
    "\n",
    "while start_time < end_time:\n",
    "    start_str = str(int(start_time.timestamp() * 1000))\n",
    "\n",
    "    #take 1000 lines of information\n",
    "    klines = client.get_historical_klines(symbol, interval, start_str, limit = 1000)\n",
    "\n",
    "    if not klines:\n",
    "        break\n",
    "\n",
    "    #create dataframe with data\n",
    "    data = pd.DataFrame(klines, columns = [\n",
    "                                            'timestamp', 'open', 'high', 'low', 'close', 'volume', 'close_time', \n",
    "                                            'quote_asset_volume', 'number_of_trades', 'taker_buy_base_asset_volume',\n",
    "                                            'taker_buy_quote_asset_volume', 'ignore'\n",
    "                                          ])\n",
    "\n",
    "    data['timestamp'] = pd.to_datetime(data['timestamp'], unit='ms')\n",
    "    data.set_index('timestamp', inplace=True)\n",
    "    data = data.apply(pd.to_numeric, errors = 'coerce')\n",
    "\n",
    "    all_data = pd.concat([all_data, data])\n",
    "\n",
    "    #last datetime\n",
    "    start_time = data.index[-1] + pd.Timedelta(minutes = 5)\n",
    "\n",
    "    time.sleep(0.5)\n",
    "    \n",
    "#sort data by timestamp\n",
    "btc = all_data.sort_index().ffill()"
   ]
  },
  {
   "cell_type": "code",
   "execution_count": 3,
   "id": "9e5fcf57-8205-438e-a406-c95df5a6f782",
   "metadata": {},
   "outputs": [
    {
     "data": {
      "text/html": [
       "<div>\n",
       "<style scoped>\n",
       "    .dataframe tbody tr th:only-of-type {\n",
       "        vertical-align: middle;\n",
       "    }\n",
       "\n",
       "    .dataframe tbody tr th {\n",
       "        vertical-align: top;\n",
       "    }\n",
       "\n",
       "    .dataframe thead th {\n",
       "        text-align: right;\n",
       "    }\n",
       "</style>\n",
       "<table border=\"1\" class=\"dataframe\">\n",
       "  <thead>\n",
       "    <tr style=\"text-align: right;\">\n",
       "      <th></th>\n",
       "      <th>open</th>\n",
       "      <th>high</th>\n",
       "      <th>low</th>\n",
       "      <th>close</th>\n",
       "      <th>volume</th>\n",
       "      <th>close_time</th>\n",
       "      <th>quote_asset_volume</th>\n",
       "      <th>number_of_trades</th>\n",
       "      <th>taker_buy_base_asset_volume</th>\n",
       "      <th>taker_buy_quote_asset_volume</th>\n",
       "      <th>ignore</th>\n",
       "    </tr>\n",
       "    <tr>\n",
       "      <th>timestamp</th>\n",
       "      <th></th>\n",
       "      <th></th>\n",
       "      <th></th>\n",
       "      <th></th>\n",
       "      <th></th>\n",
       "      <th></th>\n",
       "      <th></th>\n",
       "      <th></th>\n",
       "      <th></th>\n",
       "      <th></th>\n",
       "      <th></th>\n",
       "    </tr>\n",
       "  </thead>\n",
       "  <tbody>\n",
       "    <tr>\n",
       "      <th>2025-02-15 22:30:00</th>\n",
       "      <td>97450.01</td>\n",
       "      <td>97566.06</td>\n",
       "      <td>97432.50</td>\n",
       "      <td>97545.76</td>\n",
       "      <td>137.08232</td>\n",
       "      <td>1739660399999</td>\n",
       "      <td>1.336402e+07</td>\n",
       "      <td>47082</td>\n",
       "      <td>69.97286</td>\n",
       "      <td>6.821113e+06</td>\n",
       "      <td>0</td>\n",
       "    </tr>\n",
       "    <tr>\n",
       "      <th>2025-02-15 23:00:00</th>\n",
       "      <td>97545.77</td>\n",
       "      <td>97624.00</td>\n",
       "      <td>97426.56</td>\n",
       "      <td>97591.36</td>\n",
       "      <td>250.77348</td>\n",
       "      <td>1739662199999</td>\n",
       "      <td>2.444940e+07</td>\n",
       "      <td>63457</td>\n",
       "      <td>126.42784</td>\n",
       "      <td>1.232573e+07</td>\n",
       "      <td>0</td>\n",
       "    </tr>\n",
       "    <tr>\n",
       "      <th>2025-02-15 23:30:00</th>\n",
       "      <td>97591.35</td>\n",
       "      <td>97634.22</td>\n",
       "      <td>97519.24</td>\n",
       "      <td>97569.66</td>\n",
       "      <td>102.87179</td>\n",
       "      <td>1739663999999</td>\n",
       "      <td>1.003692e+07</td>\n",
       "      <td>26596</td>\n",
       "      <td>37.43649</td>\n",
       "      <td>3.652243e+06</td>\n",
       "      <td>0</td>\n",
       "    </tr>\n",
       "    <tr>\n",
       "      <th>2025-02-16 00:00:00</th>\n",
       "      <td>97569.67</td>\n",
       "      <td>97700.88</td>\n",
       "      <td>97554.65</td>\n",
       "      <td>97674.97</td>\n",
       "      <td>74.99016</td>\n",
       "      <td>1739665799999</td>\n",
       "      <td>7.321794e+06</td>\n",
       "      <td>24522</td>\n",
       "      <td>41.51239</td>\n",
       "      <td>4.052672e+06</td>\n",
       "      <td>0</td>\n",
       "    </tr>\n",
       "    <tr>\n",
       "      <th>2025-02-16 00:30:00</th>\n",
       "      <td>97674.97</td>\n",
       "      <td>97704.47</td>\n",
       "      <td>97584.90</td>\n",
       "      <td>97594.57</td>\n",
       "      <td>71.66860</td>\n",
       "      <td>1739667599999</td>\n",
       "      <td>6.998170e+06</td>\n",
       "      <td>19730</td>\n",
       "      <td>28.50778</td>\n",
       "      <td>2.783864e+06</td>\n",
       "      <td>0</td>\n",
       "    </tr>\n",
       "    <tr>\n",
       "      <th>...</th>\n",
       "      <td>...</td>\n",
       "      <td>...</td>\n",
       "      <td>...</td>\n",
       "      <td>...</td>\n",
       "      <td>...</td>\n",
       "      <td>...</td>\n",
       "      <td>...</td>\n",
       "      <td>...</td>\n",
       "      <td>...</td>\n",
       "      <td>...</td>\n",
       "      <td>...</td>\n",
       "    </tr>\n",
       "    <tr>\n",
       "      <th>2025-04-16 17:00:00</th>\n",
       "      <td>85048.54</td>\n",
       "      <td>85481.16</td>\n",
       "      <td>85022.01</td>\n",
       "      <td>85304.37</td>\n",
       "      <td>536.19474</td>\n",
       "      <td>1744824599999</td>\n",
       "      <td>4.571748e+07</td>\n",
       "      <td>83115</td>\n",
       "      <td>323.85310</td>\n",
       "      <td>2.761330e+07</td>\n",
       "      <td>0</td>\n",
       "    </tr>\n",
       "    <tr>\n",
       "      <th>2025-04-16 17:30:00</th>\n",
       "      <td>85304.37</td>\n",
       "      <td>85500.00</td>\n",
       "      <td>83275.00</td>\n",
       "      <td>83281.21</td>\n",
       "      <td>2128.39829</td>\n",
       "      <td>1744826399999</td>\n",
       "      <td>1.792253e+08</td>\n",
       "      <td>252444</td>\n",
       "      <td>837.64934</td>\n",
       "      <td>7.055313e+07</td>\n",
       "      <td>0</td>\n",
       "    </tr>\n",
       "    <tr>\n",
       "      <th>2025-04-16 18:00:00</th>\n",
       "      <td>83281.21</td>\n",
       "      <td>84472.31</td>\n",
       "      <td>83276.00</td>\n",
       "      <td>84386.81</td>\n",
       "      <td>1437.97262</td>\n",
       "      <td>1744828199999</td>\n",
       "      <td>1.205844e+08</td>\n",
       "      <td>247700</td>\n",
       "      <td>866.98346</td>\n",
       "      <td>7.266248e+07</td>\n",
       "      <td>0</td>\n",
       "    </tr>\n",
       "    <tr>\n",
       "      <th>2025-04-16 18:30:00</th>\n",
       "      <td>84386.82</td>\n",
       "      <td>84400.09</td>\n",
       "      <td>83613.82</td>\n",
       "      <td>84029.97</td>\n",
       "      <td>613.80468</td>\n",
       "      <td>1744829999999</td>\n",
       "      <td>5.155434e+07</td>\n",
       "      <td>152449</td>\n",
       "      <td>253.85967</td>\n",
       "      <td>2.132485e+07</td>\n",
       "      <td>0</td>\n",
       "    </tr>\n",
       "    <tr>\n",
       "      <th>2025-04-16 19:00:00</th>\n",
       "      <td>84029.98</td>\n",
       "      <td>84226.00</td>\n",
       "      <td>84018.06</td>\n",
       "      <td>84165.99</td>\n",
       "      <td>49.55058</td>\n",
       "      <td>1744831799999</td>\n",
       "      <td>4.168894e+06</td>\n",
       "      <td>12000</td>\n",
       "      <td>32.31417</td>\n",
       "      <td>2.718716e+06</td>\n",
       "      <td>0</td>\n",
       "    </tr>\n",
       "  </tbody>\n",
       "</table>\n",
       "<p>2874 rows × 11 columns</p>\n",
       "</div>"
      ],
      "text/plain": [
       "                         open      high       low     close      volume  \\\n",
       "timestamp                                                                 \n",
       "2025-02-15 22:30:00  97450.01  97566.06  97432.50  97545.76   137.08232   \n",
       "2025-02-15 23:00:00  97545.77  97624.00  97426.56  97591.36   250.77348   \n",
       "2025-02-15 23:30:00  97591.35  97634.22  97519.24  97569.66   102.87179   \n",
       "2025-02-16 00:00:00  97569.67  97700.88  97554.65  97674.97    74.99016   \n",
       "2025-02-16 00:30:00  97674.97  97704.47  97584.90  97594.57    71.66860   \n",
       "...                       ...       ...       ...       ...         ...   \n",
       "2025-04-16 17:00:00  85048.54  85481.16  85022.01  85304.37   536.19474   \n",
       "2025-04-16 17:30:00  85304.37  85500.00  83275.00  83281.21  2128.39829   \n",
       "2025-04-16 18:00:00  83281.21  84472.31  83276.00  84386.81  1437.97262   \n",
       "2025-04-16 18:30:00  84386.82  84400.09  83613.82  84029.97   613.80468   \n",
       "2025-04-16 19:00:00  84029.98  84226.00  84018.06  84165.99    49.55058   \n",
       "\n",
       "                        close_time  quote_asset_volume  number_of_trades  \\\n",
       "timestamp                                                                  \n",
       "2025-02-15 22:30:00  1739660399999        1.336402e+07             47082   \n",
       "2025-02-15 23:00:00  1739662199999        2.444940e+07             63457   \n",
       "2025-02-15 23:30:00  1739663999999        1.003692e+07             26596   \n",
       "2025-02-16 00:00:00  1739665799999        7.321794e+06             24522   \n",
       "2025-02-16 00:30:00  1739667599999        6.998170e+06             19730   \n",
       "...                            ...                 ...               ...   \n",
       "2025-04-16 17:00:00  1744824599999        4.571748e+07             83115   \n",
       "2025-04-16 17:30:00  1744826399999        1.792253e+08            252444   \n",
       "2025-04-16 18:00:00  1744828199999        1.205844e+08            247700   \n",
       "2025-04-16 18:30:00  1744829999999        5.155434e+07            152449   \n",
       "2025-04-16 19:00:00  1744831799999        4.168894e+06             12000   \n",
       "\n",
       "                     taker_buy_base_asset_volume  \\\n",
       "timestamp                                          \n",
       "2025-02-15 22:30:00                     69.97286   \n",
       "2025-02-15 23:00:00                    126.42784   \n",
       "2025-02-15 23:30:00                     37.43649   \n",
       "2025-02-16 00:00:00                     41.51239   \n",
       "2025-02-16 00:30:00                     28.50778   \n",
       "...                                          ...   \n",
       "2025-04-16 17:00:00                    323.85310   \n",
       "2025-04-16 17:30:00                    837.64934   \n",
       "2025-04-16 18:00:00                    866.98346   \n",
       "2025-04-16 18:30:00                    253.85967   \n",
       "2025-04-16 19:00:00                     32.31417   \n",
       "\n",
       "                     taker_buy_quote_asset_volume  ignore  \n",
       "timestamp                                                  \n",
       "2025-02-15 22:30:00                  6.821113e+06       0  \n",
       "2025-02-15 23:00:00                  1.232573e+07       0  \n",
       "2025-02-15 23:30:00                  3.652243e+06       0  \n",
       "2025-02-16 00:00:00                  4.052672e+06       0  \n",
       "2025-02-16 00:30:00                  2.783864e+06       0  \n",
       "...                                           ...     ...  \n",
       "2025-04-16 17:00:00                  2.761330e+07       0  \n",
       "2025-04-16 17:30:00                  7.055313e+07       0  \n",
       "2025-04-16 18:00:00                  7.266248e+07       0  \n",
       "2025-04-16 18:30:00                  2.132485e+07       0  \n",
       "2025-04-16 19:00:00                  2.718716e+06       0  \n",
       "\n",
       "[2874 rows x 11 columns]"
      ]
     },
     "execution_count": 3,
     "metadata": {},
     "output_type": "execute_result"
    }
   ],
   "source": [
    "#example of bitcoin data with prices\n",
    "btc"
   ]
  },
  {
   "cell_type": "code",
   "execution_count": 4,
   "id": "26667e0b-b091-450b-b17f-8237cb04615d",
   "metadata": {},
   "outputs": [],
   "source": [
    "#split data to train and test\n",
    "test_percent = 0.2\n",
    "train_size = int(len(btc) * (1 - test_percent))\n",
    "\n",
    "train_data = btc.iloc[:train_size]\n",
    "test_data = btc.iloc[train_size:]"
   ]
  },
  {
   "cell_type": "code",
   "execution_count": 5,
   "id": "d9f21f46-a28c-41ad-9502-efb765b97a08",
   "metadata": {},
   "outputs": [],
   "source": [
    "#scaling data\n",
    "scaler = MinMaxScaler()\n",
    "scaled_train = scaler.fit_transform(train_data[['close']])\n",
    "scaled_test = scaler.transform(test_data[['close']])"
   ]
  },
  {
   "cell_type": "code",
   "execution_count": 6,
   "id": "50efd2b1-21ed-419c-a83f-862aa1e0cada",
   "metadata": {},
   "outputs": [],
   "source": [
    "#create lists of data to prediction and lists with correct predictions to train LSTM model\n",
    "x_train = []\n",
    "y_train = []\n",
    "x_test = []\n",
    "y_test = []\n",
    "\n",
    "for i in range(lookback_interval, len(scaled_train)):\n",
    "    x_train.append(scaled_train[i-lookback_interval:i])\n",
    "    y_train.append(scaled_train[i])\n",
    "\n",
    "for i in range(lookback_interval, len(scaled_test)):\n",
    "    x_test.append(scaled_test[i-lookback_interval:i])\n",
    "    y_test.append(scaled_test[i])   "
   ]
  },
  {
   "cell_type": "code",
   "execution_count": 7,
   "id": "caf71b03-128f-42f2-ba46-4069f388644a",
   "metadata": {},
   "outputs": [],
   "source": [
    "#convert lists to np arrays\n",
    "x_train = np.array(x_train)\n",
    "y_train = np.array(y_train)\n",
    "x_test = np.array(x_test)\n",
    "y_test = np.array(y_test)"
   ]
  },
  {
   "cell_type": "code",
   "execution_count": 8,
   "id": "4c2fc4a7-1345-4911-b1f1-0a0fd84f22fa",
   "metadata": {},
   "outputs": [
    {
     "name": "stdout",
     "output_type": "stream",
     "text": [
      "Epoch 1/20\n"
     ]
    },
    {
     "name": "stderr",
     "output_type": "stream",
     "text": [
      "D:\\Users\\userr\\anaconda3\\envs\\py311\\Lib\\site-packages\\keras\\src\\layers\\rnn\\rnn.py:200: UserWarning: Do not pass an `input_shape`/`input_dim` argument to a layer. When using Sequential models, prefer using an `Input(shape)` object as the first layer in the model instead.\n",
      "  super().__init__(**kwargs)\n"
     ]
    },
    {
     "name": "stdout",
     "output_type": "stream",
     "text": [
      "\u001b[1m65/65\u001b[0m \u001b[32m━━━━━━━━━━━━━━━━━━━━\u001b[0m\u001b[37m\u001b[0m \u001b[1m4s\u001b[0m 18ms/step - loss: 0.0477 - val_loss: 0.0012\n",
      "Epoch 2/20\n",
      "\u001b[1m65/65\u001b[0m \u001b[32m━━━━━━━━━━━━━━━━━━━━\u001b[0m\u001b[37m\u001b[0m \u001b[1m1s\u001b[0m 12ms/step - loss: 0.0044 - val_loss: 0.0014\n",
      "Epoch 3/20\n",
      "\u001b[1m65/65\u001b[0m \u001b[32m━━━━━━━━━━━━━━━━━━━━\u001b[0m\u001b[37m\u001b[0m \u001b[1m1s\u001b[0m 13ms/step - loss: 0.0038 - val_loss: 0.0010\n",
      "Epoch 4/20\n",
      "\u001b[1m65/65\u001b[0m \u001b[32m━━━━━━━━━━━━━━━━━━━━\u001b[0m\u001b[37m\u001b[0m \u001b[1m1s\u001b[0m 13ms/step - loss: 0.0041 - val_loss: 0.0011\n",
      "Epoch 5/20\n",
      "\u001b[1m65/65\u001b[0m \u001b[32m━━━━━━━━━━━━━━━━━━━━\u001b[0m\u001b[37m\u001b[0m \u001b[1m1s\u001b[0m 13ms/step - loss: 0.0036 - val_loss: 0.0011\n",
      "Epoch 6/20\n",
      "\u001b[1m65/65\u001b[0m \u001b[32m━━━━━━━━━━━━━━━━━━━━\u001b[0m\u001b[37m\u001b[0m \u001b[1m1s\u001b[0m 13ms/step - loss: 0.0037 - val_loss: 0.0020\n",
      "Epoch 7/20\n",
      "\u001b[1m65/65\u001b[0m \u001b[32m━━━━━━━━━━━━━━━━━━━━\u001b[0m\u001b[37m\u001b[0m \u001b[1m1s\u001b[0m 15ms/step - loss: 0.0043 - val_loss: 8.7063e-04\n",
      "Epoch 8/20\n",
      "\u001b[1m65/65\u001b[0m \u001b[32m━━━━━━━━━━━━━━━━━━━━\u001b[0m\u001b[37m\u001b[0m \u001b[1m1s\u001b[0m 14ms/step - loss: 0.0030 - val_loss: 8.7763e-04\n",
      "Epoch 9/20\n",
      "\u001b[1m65/65\u001b[0m \u001b[32m━━━━━━━━━━━━━━━━━━━━\u001b[0m\u001b[37m\u001b[0m \u001b[1m1s\u001b[0m 14ms/step - loss: 0.0028 - val_loss: 0.0010\n",
      "Epoch 10/20\n",
      "\u001b[1m65/65\u001b[0m \u001b[32m━━━━━━━━━━━━━━━━━━━━\u001b[0m\u001b[37m\u001b[0m \u001b[1m1s\u001b[0m 14ms/step - loss: 0.0030 - val_loss: 8.1183e-04\n",
      "Epoch 11/20\n",
      "\u001b[1m65/65\u001b[0m \u001b[32m━━━━━━━━━━━━━━━━━━━━\u001b[0m\u001b[37m\u001b[0m \u001b[1m1s\u001b[0m 14ms/step - loss: 0.0027 - val_loss: 0.0012\n",
      "Epoch 12/20\n",
      "\u001b[1m65/65\u001b[0m \u001b[32m━━━━━━━━━━━━━━━━━━━━\u001b[0m\u001b[37m\u001b[0m \u001b[1m1s\u001b[0m 13ms/step - loss: 0.0030 - val_loss: 0.0012\n",
      "Epoch 13/20\n",
      "\u001b[1m65/65\u001b[0m \u001b[32m━━━━━━━━━━━━━━━━━━━━\u001b[0m\u001b[37m\u001b[0m \u001b[1m1s\u001b[0m 13ms/step - loss: 0.0031 - val_loss: 9.2280e-04\n",
      "Epoch 14/20\n",
      "\u001b[1m65/65\u001b[0m \u001b[32m━━━━━━━━━━━━━━━━━━━━\u001b[0m\u001b[37m\u001b[0m \u001b[1m1s\u001b[0m 14ms/step - loss: 0.0028 - val_loss: 7.5751e-04\n",
      "Epoch 15/20\n",
      "\u001b[1m65/65\u001b[0m \u001b[32m━━━━━━━━━━━━━━━━━━━━\u001b[0m\u001b[37m\u001b[0m \u001b[1m1s\u001b[0m 17ms/step - loss: 0.0023 - val_loss: 9.3792e-04\n",
      "Epoch 16/20\n",
      "\u001b[1m65/65\u001b[0m \u001b[32m━━━━━━━━━━━━━━━━━━━━\u001b[0m\u001b[37m\u001b[0m \u001b[1m1s\u001b[0m 14ms/step - loss: 0.0031 - val_loss: 7.3867e-04\n",
      "Epoch 17/20\n",
      "\u001b[1m65/65\u001b[0m \u001b[32m━━━━━━━━━━━━━━━━━━━━\u001b[0m\u001b[37m\u001b[0m \u001b[1m1s\u001b[0m 14ms/step - loss: 0.0027 - val_loss: 7.3744e-04\n",
      "Epoch 18/20\n",
      "\u001b[1m65/65\u001b[0m \u001b[32m━━━━━━━━━━━━━━━━━━━━\u001b[0m\u001b[37m\u001b[0m \u001b[1m1s\u001b[0m 14ms/step - loss: 0.0023 - val_loss: 6.5067e-04\n",
      "Epoch 19/20\n",
      "\u001b[1m65/65\u001b[0m \u001b[32m━━━━━━━━━━━━━━━━━━━━\u001b[0m\u001b[37m\u001b[0m \u001b[1m1s\u001b[0m 14ms/step - loss: 0.0023 - val_loss: 6.7305e-04\n",
      "Epoch 20/20\n",
      "\u001b[1m65/65\u001b[0m \u001b[32m━━━━━━━━━━━━━━━━━━━━\u001b[0m\u001b[37m\u001b[0m \u001b[1m1s\u001b[0m 18ms/step - loss: 0.0026 - val_loss: 6.3132e-04\n",
      "\u001b[1m18/18\u001b[0m \u001b[32m━━━━━━━━━━━━━━━━━━━━\u001b[0m\u001b[37m\u001b[0m \u001b[1m0s\u001b[0m 9ms/step - loss: 9.8933e-04 \n",
      "Mean Squared Error: 0.0008630980737507343\n"
     ]
    }
   ],
   "source": [
    "#create LSTM model\n",
    "model = Sequential()\n",
    "\n",
    "model.add(LSTM(96, input_shape=(lookback_interval, 1), return_sequences=True, kernel_initializer = 'glorot_uniform'))\n",
    "model.add(Dropout(0.2))\n",
    "\n",
    "model.add(LSTM(64))\n",
    "model.add(Dropout(0.3))\n",
    "\n",
    "model.add(Dense(1, activation = 'relu'))\n",
    "\n",
    "#compile LSTM model\n",
    "model.compile(optimizer='adam', loss='mse')\n",
    "\n",
    "#train LSTM model\n",
    "model.fit(x_train, y_train, epochs=20, batch_size=32, validation_split=0.1)\n",
    "\n",
    "#calculate mean error on test data\n",
    "mse = model.evaluate(x_test, y_test)\n",
    "print(f\"Mean Squared Error: {mse}\")"
   ]
  },
  {
   "cell_type": "code",
   "execution_count": 9,
   "id": "d9ab76d8-beaa-4b05-8b3b-e2fd057a0da2",
   "metadata": {},
   "outputs": [
    {
     "name": "stdout",
     "output_type": "stream",
     "text": [
      "\u001b[1m18/18\u001b[0m \u001b[32m━━━━━━━━━━━━━━━━━━━━\u001b[0m\u001b[37m\u001b[0m \u001b[1m1s\u001b[0m 22ms/step \n",
      "[[83958.19 ]\n",
      " [83926.81 ]\n",
      " [83888.58 ]\n",
      " [83879.28 ]\n",
      " [83862.305]]\n",
      "[[84911.56]\n",
      " [85060.  ]\n",
      " [84874.  ]\n",
      " [84711.15]\n",
      " [84530.76]]\n",
      "                        close\n",
      "timestamp                    \n",
      "2025-04-05 04:00:00  83838.19\n",
      "2025-04-05 04:30:00  83677.75\n",
      "2025-04-05 05:00:00  83850.00\n",
      "2025-04-05 05:30:00  83688.67\n",
      "2025-04-05 06:00:00  83617.99\n",
      "...                       ...\n",
      "2025-04-16 17:00:00  85304.37\n",
      "2025-04-16 17:30:00  83281.21\n",
      "2025-04-16 18:00:00  84386.81\n",
      "2025-04-16 18:30:00  84029.97\n",
      "2025-04-16 19:00:00  84165.99\n",
      "\n",
      "[559 rows x 1 columns]\n"
     ]
    }
   ],
   "source": [
    "#compare predictions with real data\n",
    "predictions = model.predict(x_test)\n",
    "predictions_inv = scaler.inverse_transform(predictions)\n",
    "print(predictions_inv[0:5])\n",
    "print(predictions_inv[554:559])\n",
    "print(test_data[['close']][lookback_interval:])"
   ]
  },
  {
   "cell_type": "code",
   "execution_count": 10,
   "id": "03a47e06-115d-41f5-a674-8748c799d6fa",
   "metadata": {},
   "outputs": [
    {
     "data": {
      "text/plain": [
       "np.float64(393.5349126355843)"
      ]
     },
     "execution_count": 10,
     "metadata": {},
     "output_type": "execute_result"
    }
   ],
   "source": [
    "#calculate mean prediction error on all historical data\n",
    "historical_data = btc\n",
    "scaled_historical = scaler.transform(historical_data[['close']])\n",
    "x_historical = []\n",
    "y_historical = []\n",
    "\n",
    "for i in range(lookback_interval, len(scaled_historical)):\n",
    "    x_historical.append(scaled_historical[i-lookback_interval:i])\n",
    "    y_historical.append(scaled_historical[i])\n",
    "x_historical = np.array(x_historical)\n",
    "y_historical = np.array(y_historical)\n",
    "historical_error = []\n",
    "for i in range(0, len(y_historical)):\n",
    "    scaled_prediction = model.predict(np.array([x_historical[i]]),verbose=None)\n",
    "    prediction = scaler.inverse_transform(scaled_prediction)[0][0]\n",
    "    error = abs(prediction - (scaler.inverse_transform([y_historical[i]])[0][0]))\n",
    "    historical_error.append(error)\n",
    "np.array(historical_error).mean()"
   ]
  },
  {
   "cell_type": "code",
   "execution_count": 12,
   "id": "8b82ac90-8be1-4921-a4eb-e81069160f6e",
   "metadata": {},
   "outputs": [],
   "source": [
    "#Reading data for last 8 hour for actual price prediction\n",
    "client = Client()\n",
    "\n",
    "\n",
    "lookback_interval = 16\n",
    "symbol = 'BTCUSDT'\n",
    "interval = client.KLINE_INTERVAL_30MINUTE   \n",
    "\n",
    "all_data = pd.DataFrame()\n",
    "end_time = pd.Timestamp.utcnow().tz_localize(None) \n",
    "start_time = end_time - pd.Timedelta(hours = 8)\n",
    "while start_time < end_time:\n",
    "    start_str = str(int(start_time.timestamp() * 1000))\n",
    "\n",
    "    klines = client.get_historical_klines(symbol, interval, start_str, limit = 1000)\n",
    "\n",
    "    if not klines:\n",
    "        break\n",
    "\n",
    "    data = pd.DataFrame(klines, columns = [\n",
    "                                            'timestamp', 'open', 'high', 'low', 'close', 'volume', 'close_time', \n",
    "                                            'quote_asset_volume', 'number_of_trades', 'taker_buy_base_asset_volume',\n",
    "                                            'taker_buy_quote_asset_volume', 'ignore'\n",
    "                                          ])\n",
    "\n",
    "    data['timestamp'] = pd.to_datetime(data['timestamp'], unit='ms')\n",
    "    data.set_index('timestamp', inplace=True)\n",
    "    data = data.apply(pd.to_numeric, errors = 'coerce')\n",
    "\n",
    "    all_data = pd.concat([all_data, data])\n",
    "\n",
    "    start_time = data.index[-1] + pd.Timedelta(minutes = 5)\n",
    "\n",
    "    time.sleep(0.5)\n",
    "\n",
    "btc = all_data.sort_index().ffill()"
   ]
  },
  {
   "cell_type": "code",
   "execution_count": 13,
   "id": "2f378f3b-308b-4f27-804d-e42a93a8950b",
   "metadata": {},
   "outputs": [
    {
     "data": {
      "text/html": [
       "<div>\n",
       "<style scoped>\n",
       "    .dataframe tbody tr th:only-of-type {\n",
       "        vertical-align: middle;\n",
       "    }\n",
       "\n",
       "    .dataframe tbody tr th {\n",
       "        vertical-align: top;\n",
       "    }\n",
       "\n",
       "    .dataframe thead th {\n",
       "        text-align: right;\n",
       "    }\n",
       "</style>\n",
       "<table border=\"1\" class=\"dataframe\">\n",
       "  <thead>\n",
       "    <tr style=\"text-align: right;\">\n",
       "      <th></th>\n",
       "      <th>open</th>\n",
       "      <th>high</th>\n",
       "      <th>low</th>\n",
       "      <th>close</th>\n",
       "      <th>volume</th>\n",
       "      <th>close_time</th>\n",
       "      <th>quote_asset_volume</th>\n",
       "      <th>number_of_trades</th>\n",
       "      <th>taker_buy_base_asset_volume</th>\n",
       "      <th>taker_buy_quote_asset_volume</th>\n",
       "      <th>ignore</th>\n",
       "    </tr>\n",
       "    <tr>\n",
       "      <th>timestamp</th>\n",
       "      <th></th>\n",
       "      <th></th>\n",
       "      <th></th>\n",
       "      <th></th>\n",
       "      <th></th>\n",
       "      <th></th>\n",
       "      <th></th>\n",
       "      <th></th>\n",
       "      <th></th>\n",
       "      <th></th>\n",
       "      <th></th>\n",
       "    </tr>\n",
       "  </thead>\n",
       "  <tbody>\n",
       "    <tr>\n",
       "      <th>2025-04-16 11:30:00</th>\n",
       "      <td>83873.83</td>\n",
       "      <td>84127.05</td>\n",
       "      <td>83782.60</td>\n",
       "      <td>84048.11</td>\n",
       "      <td>203.06508</td>\n",
       "      <td>1744804799999</td>\n",
       "      <td>1.705654e+07</td>\n",
       "      <td>32579</td>\n",
       "      <td>110.09497</td>\n",
       "      <td>9.247317e+06</td>\n",
       "      <td>0</td>\n",
       "    </tr>\n",
       "    <tr>\n",
       "      <th>2025-04-16 12:00:00</th>\n",
       "      <td>84048.36</td>\n",
       "      <td>84262.00</td>\n",
       "      <td>84000.00</td>\n",
       "      <td>84180.65</td>\n",
       "      <td>306.75831</td>\n",
       "      <td>1744806599999</td>\n",
       "      <td>2.580588e+07</td>\n",
       "      <td>45521</td>\n",
       "      <td>178.11152</td>\n",
       "      <td>1.498462e+07</td>\n",
       "      <td>0</td>\n",
       "    </tr>\n",
       "    <tr>\n",
       "      <th>2025-04-16 12:30:00</th>\n",
       "      <td>84180.66</td>\n",
       "      <td>84213.53</td>\n",
       "      <td>83722.56</td>\n",
       "      <td>83757.72</td>\n",
       "      <td>353.91624</td>\n",
       "      <td>1744808399999</td>\n",
       "      <td>2.970409e+07</td>\n",
       "      <td>50130</td>\n",
       "      <td>137.08467</td>\n",
       "      <td>1.151072e+07</td>\n",
       "      <td>0</td>\n",
       "    </tr>\n",
       "    <tr>\n",
       "      <th>2025-04-16 13:00:00</th>\n",
       "      <td>83757.73</td>\n",
       "      <td>83800.28</td>\n",
       "      <td>83620.75</td>\n",
       "      <td>83725.66</td>\n",
       "      <td>256.32885</td>\n",
       "      <td>1744810199999</td>\n",
       "      <td>2.145699e+07</td>\n",
       "      <td>37715</td>\n",
       "      <td>111.84216</td>\n",
       "      <td>9.361987e+06</td>\n",
       "      <td>0</td>\n",
       "    </tr>\n",
       "    <tr>\n",
       "      <th>2025-04-16 13:30:00</th>\n",
       "      <td>83725.67</td>\n",
       "      <td>84204.54</td>\n",
       "      <td>83512.20</td>\n",
       "      <td>83736.37</td>\n",
       "      <td>836.36482</td>\n",
       "      <td>1744811999999</td>\n",
       "      <td>7.017404e+07</td>\n",
       "      <td>134340</td>\n",
       "      <td>466.18532</td>\n",
       "      <td>3.912162e+07</td>\n",
       "      <td>0</td>\n",
       "    </tr>\n",
       "    <tr>\n",
       "      <th>2025-04-16 14:00:00</th>\n",
       "      <td>83736.36</td>\n",
       "      <td>84460.00</td>\n",
       "      <td>83714.31</td>\n",
       "      <td>84357.99</td>\n",
       "      <td>586.73049</td>\n",
       "      <td>1744813799999</td>\n",
       "      <td>4.939004e+07</td>\n",
       "      <td>95620</td>\n",
       "      <td>331.22164</td>\n",
       "      <td>2.787812e+07</td>\n",
       "      <td>0</td>\n",
       "    </tr>\n",
       "    <tr>\n",
       "      <th>2025-04-16 14:30:00</th>\n",
       "      <td>84357.99</td>\n",
       "      <td>84849.06</td>\n",
       "      <td>84263.98</td>\n",
       "      <td>84605.31</td>\n",
       "      <td>728.08601</td>\n",
       "      <td>1744815599999</td>\n",
       "      <td>6.157678e+07</td>\n",
       "      <td>101357</td>\n",
       "      <td>353.04618</td>\n",
       "      <td>2.986416e+07</td>\n",
       "      <td>0</td>\n",
       "    </tr>\n",
       "    <tr>\n",
       "      <th>2025-04-16 15:00:00</th>\n",
       "      <td>84605.30</td>\n",
       "      <td>85270.27</td>\n",
       "      <td>84502.02</td>\n",
       "      <td>85105.85</td>\n",
       "      <td>905.42217</td>\n",
       "      <td>1744817399999</td>\n",
       "      <td>7.692503e+07</td>\n",
       "      <td>109935</td>\n",
       "      <td>517.46774</td>\n",
       "      <td>4.396367e+07</td>\n",
       "      <td>0</td>\n",
       "    </tr>\n",
       "    <tr>\n",
       "      <th>2025-04-16 15:30:00</th>\n",
       "      <td>85105.85</td>\n",
       "      <td>85171.59</td>\n",
       "      <td>84785.51</td>\n",
       "      <td>84846.58</td>\n",
       "      <td>613.42243</td>\n",
       "      <td>1744819199999</td>\n",
       "      <td>5.211529e+07</td>\n",
       "      <td>94193</td>\n",
       "      <td>216.13854</td>\n",
       "      <td>1.836280e+07</td>\n",
       "      <td>0</td>\n",
       "    </tr>\n",
       "    <tr>\n",
       "      <th>2025-04-16 16:00:00</th>\n",
       "      <td>84846.58</td>\n",
       "      <td>85109.67</td>\n",
       "      <td>84717.44</td>\n",
       "      <td>84844.71</td>\n",
       "      <td>332.33469</td>\n",
       "      <td>1744820999999</td>\n",
       "      <td>2.822522e+07</td>\n",
       "      <td>70994</td>\n",
       "      <td>129.80743</td>\n",
       "      <td>1.102549e+07</td>\n",
       "      <td>0</td>\n",
       "    </tr>\n",
       "    <tr>\n",
       "      <th>2025-04-16 16:30:00</th>\n",
       "      <td>84844.72</td>\n",
       "      <td>85226.42</td>\n",
       "      <td>84701.23</td>\n",
       "      <td>85048.55</td>\n",
       "      <td>449.99914</td>\n",
       "      <td>1744822799999</td>\n",
       "      <td>3.823262e+07</td>\n",
       "      <td>73544</td>\n",
       "      <td>283.17338</td>\n",
       "      <td>2.406503e+07</td>\n",
       "      <td>0</td>\n",
       "    </tr>\n",
       "    <tr>\n",
       "      <th>2025-04-16 17:00:00</th>\n",
       "      <td>85048.54</td>\n",
       "      <td>85481.16</td>\n",
       "      <td>85022.01</td>\n",
       "      <td>85304.37</td>\n",
       "      <td>536.19474</td>\n",
       "      <td>1744824599999</td>\n",
       "      <td>4.571748e+07</td>\n",
       "      <td>83115</td>\n",
       "      <td>323.85310</td>\n",
       "      <td>2.761330e+07</td>\n",
       "      <td>0</td>\n",
       "    </tr>\n",
       "    <tr>\n",
       "      <th>2025-04-16 17:30:00</th>\n",
       "      <td>85304.37</td>\n",
       "      <td>85500.00</td>\n",
       "      <td>83275.00</td>\n",
       "      <td>83281.21</td>\n",
       "      <td>2128.39829</td>\n",
       "      <td>1744826399999</td>\n",
       "      <td>1.792253e+08</td>\n",
       "      <td>252444</td>\n",
       "      <td>837.64934</td>\n",
       "      <td>7.055313e+07</td>\n",
       "      <td>0</td>\n",
       "    </tr>\n",
       "    <tr>\n",
       "      <th>2025-04-16 18:00:00</th>\n",
       "      <td>83281.21</td>\n",
       "      <td>84472.31</td>\n",
       "      <td>83276.00</td>\n",
       "      <td>84386.81</td>\n",
       "      <td>1437.97262</td>\n",
       "      <td>1744828199999</td>\n",
       "      <td>1.205844e+08</td>\n",
       "      <td>247700</td>\n",
       "      <td>866.98346</td>\n",
       "      <td>7.266248e+07</td>\n",
       "      <td>0</td>\n",
       "    </tr>\n",
       "    <tr>\n",
       "      <th>2025-04-16 18:30:00</th>\n",
       "      <td>84386.82</td>\n",
       "      <td>84400.09</td>\n",
       "      <td>83613.82</td>\n",
       "      <td>84029.97</td>\n",
       "      <td>613.80468</td>\n",
       "      <td>1744829999999</td>\n",
       "      <td>5.155434e+07</td>\n",
       "      <td>152449</td>\n",
       "      <td>253.85967</td>\n",
       "      <td>2.132485e+07</td>\n",
       "      <td>0</td>\n",
       "    </tr>\n",
       "    <tr>\n",
       "      <th>2025-04-16 19:00:00</th>\n",
       "      <td>84029.98</td>\n",
       "      <td>84226.00</td>\n",
       "      <td>83967.62</td>\n",
       "      <td>83972.01</td>\n",
       "      <td>132.46540</td>\n",
       "      <td>1744831799999</td>\n",
       "      <td>1.113901e+07</td>\n",
       "      <td>38168</td>\n",
       "      <td>67.20842</td>\n",
       "      <td>5.652450e+06</td>\n",
       "      <td>0</td>\n",
       "    </tr>\n",
       "  </tbody>\n",
       "</table>\n",
       "</div>"
      ],
      "text/plain": [
       "                         open      high       low     close      volume  \\\n",
       "timestamp                                                                 \n",
       "2025-04-16 11:30:00  83873.83  84127.05  83782.60  84048.11   203.06508   \n",
       "2025-04-16 12:00:00  84048.36  84262.00  84000.00  84180.65   306.75831   \n",
       "2025-04-16 12:30:00  84180.66  84213.53  83722.56  83757.72   353.91624   \n",
       "2025-04-16 13:00:00  83757.73  83800.28  83620.75  83725.66   256.32885   \n",
       "2025-04-16 13:30:00  83725.67  84204.54  83512.20  83736.37   836.36482   \n",
       "2025-04-16 14:00:00  83736.36  84460.00  83714.31  84357.99   586.73049   \n",
       "2025-04-16 14:30:00  84357.99  84849.06  84263.98  84605.31   728.08601   \n",
       "2025-04-16 15:00:00  84605.30  85270.27  84502.02  85105.85   905.42217   \n",
       "2025-04-16 15:30:00  85105.85  85171.59  84785.51  84846.58   613.42243   \n",
       "2025-04-16 16:00:00  84846.58  85109.67  84717.44  84844.71   332.33469   \n",
       "2025-04-16 16:30:00  84844.72  85226.42  84701.23  85048.55   449.99914   \n",
       "2025-04-16 17:00:00  85048.54  85481.16  85022.01  85304.37   536.19474   \n",
       "2025-04-16 17:30:00  85304.37  85500.00  83275.00  83281.21  2128.39829   \n",
       "2025-04-16 18:00:00  83281.21  84472.31  83276.00  84386.81  1437.97262   \n",
       "2025-04-16 18:30:00  84386.82  84400.09  83613.82  84029.97   613.80468   \n",
       "2025-04-16 19:00:00  84029.98  84226.00  83967.62  83972.01   132.46540   \n",
       "\n",
       "                        close_time  quote_asset_volume  number_of_trades  \\\n",
       "timestamp                                                                  \n",
       "2025-04-16 11:30:00  1744804799999        1.705654e+07             32579   \n",
       "2025-04-16 12:00:00  1744806599999        2.580588e+07             45521   \n",
       "2025-04-16 12:30:00  1744808399999        2.970409e+07             50130   \n",
       "2025-04-16 13:00:00  1744810199999        2.145699e+07             37715   \n",
       "2025-04-16 13:30:00  1744811999999        7.017404e+07            134340   \n",
       "2025-04-16 14:00:00  1744813799999        4.939004e+07             95620   \n",
       "2025-04-16 14:30:00  1744815599999        6.157678e+07            101357   \n",
       "2025-04-16 15:00:00  1744817399999        7.692503e+07            109935   \n",
       "2025-04-16 15:30:00  1744819199999        5.211529e+07             94193   \n",
       "2025-04-16 16:00:00  1744820999999        2.822522e+07             70994   \n",
       "2025-04-16 16:30:00  1744822799999        3.823262e+07             73544   \n",
       "2025-04-16 17:00:00  1744824599999        4.571748e+07             83115   \n",
       "2025-04-16 17:30:00  1744826399999        1.792253e+08            252444   \n",
       "2025-04-16 18:00:00  1744828199999        1.205844e+08            247700   \n",
       "2025-04-16 18:30:00  1744829999999        5.155434e+07            152449   \n",
       "2025-04-16 19:00:00  1744831799999        1.113901e+07             38168   \n",
       "\n",
       "                     taker_buy_base_asset_volume  \\\n",
       "timestamp                                          \n",
       "2025-04-16 11:30:00                    110.09497   \n",
       "2025-04-16 12:00:00                    178.11152   \n",
       "2025-04-16 12:30:00                    137.08467   \n",
       "2025-04-16 13:00:00                    111.84216   \n",
       "2025-04-16 13:30:00                    466.18532   \n",
       "2025-04-16 14:00:00                    331.22164   \n",
       "2025-04-16 14:30:00                    353.04618   \n",
       "2025-04-16 15:00:00                    517.46774   \n",
       "2025-04-16 15:30:00                    216.13854   \n",
       "2025-04-16 16:00:00                    129.80743   \n",
       "2025-04-16 16:30:00                    283.17338   \n",
       "2025-04-16 17:00:00                    323.85310   \n",
       "2025-04-16 17:30:00                    837.64934   \n",
       "2025-04-16 18:00:00                    866.98346   \n",
       "2025-04-16 18:30:00                    253.85967   \n",
       "2025-04-16 19:00:00                     67.20842   \n",
       "\n",
       "                     taker_buy_quote_asset_volume  ignore  \n",
       "timestamp                                                  \n",
       "2025-04-16 11:30:00                  9.247317e+06       0  \n",
       "2025-04-16 12:00:00                  1.498462e+07       0  \n",
       "2025-04-16 12:30:00                  1.151072e+07       0  \n",
       "2025-04-16 13:00:00                  9.361987e+06       0  \n",
       "2025-04-16 13:30:00                  3.912162e+07       0  \n",
       "2025-04-16 14:00:00                  2.787812e+07       0  \n",
       "2025-04-16 14:30:00                  2.986416e+07       0  \n",
       "2025-04-16 15:00:00                  4.396367e+07       0  \n",
       "2025-04-16 15:30:00                  1.836280e+07       0  \n",
       "2025-04-16 16:00:00                  1.102549e+07       0  \n",
       "2025-04-16 16:30:00                  2.406503e+07       0  \n",
       "2025-04-16 17:00:00                  2.761330e+07       0  \n",
       "2025-04-16 17:30:00                  7.055313e+07       0  \n",
       "2025-04-16 18:00:00                  7.266248e+07       0  \n",
       "2025-04-16 18:30:00                  2.132485e+07       0  \n",
       "2025-04-16 19:00:00                  5.652450e+06       0  "
      ]
     },
     "execution_count": 13,
     "metadata": {},
     "output_type": "execute_result"
    }
   ],
   "source": [
    "#last 8 hours data example\n",
    "btc"
   ]
  },
  {
   "cell_type": "code",
   "execution_count": 14,
   "id": "28500ea0-5eba-4a0e-92f2-4bf1412033a7",
   "metadata": {},
   "outputs": [
    {
     "name": "stdout",
     "output_type": "stream",
     "text": [
      "\u001b[1m1/1\u001b[0m \u001b[32m━━━━━━━━━━━━━━━━━━━━\u001b[0m\u001b[37m\u001b[0m \u001b[1m0s\u001b[0m 63ms/step\n"
     ]
    },
    {
     "data": {
      "text/plain": [
       "np.float32(84362.96)"
      ]
     },
     "execution_count": 14,
     "metadata": {},
     "output_type": "execute_result"
    }
   ],
   "source": [
    "#predict actual price\n",
    "scaled_btc = scaler.transform(btc[['close']])\n",
    "scaled_btc = np.array(scaled_btc)\n",
    "scaled_prediction = model.predict(np.array([scaled_btc]))\n",
    "prediction = scaler.inverse_transform(scaled_prediction)[0][0]\n",
    "prediction"
   ]
  },
  {
   "cell_type": "code",
   "execution_count": 15,
   "id": "ed89f5b7-6103-4891-b131-cefee9d40616",
   "metadata": {},
   "outputs": [
    {
     "name": "stderr",
     "output_type": "stream",
     "text": [
      "C:\\Users\\userr\\AppData\\Local\\Temp\\ipykernel_11812\\2370184923.py:1: FutureWarning: Series.__getitem__ treating keys as positions is deprecated. In a future version, integer keys will always be treated as labels (consistent with DataFrame behavior). To access a value by position, use `ser.iloc[pos]`\n",
      "  btc.iloc[:]['close'][-1]\n"
     ]
    },
    {
     "data": {
      "text/plain": [
       "np.float64(83972.01)"
      ]
     },
     "execution_count": 15,
     "metadata": {},
     "output_type": "execute_result"
    }
   ],
   "source": [
    "#compare with real price\n",
    "btc.iloc[:]['close'][-1]"
   ]
  },
  {
   "cell_type": "code",
   "execution_count": null,
   "id": "36e9d4e1-f801-4096-86ca-1fbd2abfc56e",
   "metadata": {},
   "outputs": [
    {
     "name": "stderr",
     "output_type": "stream",
     "text": [
      "C:\\Users\\userr\\AppData\\Local\\Temp\\ipykernel_11812\\1969906219.py:50: FutureWarning: Series.__getitem__ treating keys as positions is deprecated. In a future version, integer keys will always be treated as labels (consistent with DataFrame behavior). To access a value by position, use `ser.iloc[pos]`\n",
      "  real_price.append(float(btc.iloc[:]['close'][-1]))\n"
     ]
    },
    {
     "name": "stdout",
     "output_type": "stream",
     "text": [
      "Real price list: [83900.0]\n",
      "Predicted price list: [None]\n",
      "Prediction: 84351.8671875\n",
      "Money list: [1000, 0]\n",
      "Coins list: [0, 0.011907032181168056]\n",
      "\n",
      "\n",
      "-----------------------\n",
      "\n",
      "\n"
     ]
    },
    {
     "name": "stderr",
     "output_type": "stream",
     "text": [
      "C:\\Users\\userr\\AppData\\Local\\Temp\\ipykernel_11812\\1969906219.py:50: FutureWarning: Series.__getitem__ treating keys as positions is deprecated. In a future version, integer keys will always be treated as labels (consistent with DataFrame behavior). To access a value by position, use `ser.iloc[pos]`\n",
      "  real_price.append(float(btc.iloc[:]['close'][-1]))\n"
     ]
    },
    {
     "name": "stdout",
     "output_type": "stream",
     "text": [
      "Real price list: [83900.0, 84090.9]\n",
      "Predicted price list: [None, 84351.8671875]\n",
      "Prediction: 84220.375\n",
      "Money list: [1000, 0]\n",
      "Coins list: [0, 0.011907032181168056]\n",
      "\n",
      "\n",
      "-----------------------\n",
      "\n",
      "\n"
     ]
    },
    {
     "name": "stderr",
     "output_type": "stream",
     "text": [
      "C:\\Users\\userr\\AppData\\Local\\Temp\\ipykernel_11812\\1969906219.py:50: FutureWarning: Series.__getitem__ treating keys as positions is deprecated. In a future version, integer keys will always be treated as labels (consistent with DataFrame behavior). To access a value by position, use `ser.iloc[pos]`\n",
      "  real_price.append(float(btc.iloc[:]['close'][-1]))\n"
     ]
    },
    {
     "name": "stdout",
     "output_type": "stream",
     "text": [
      "Real price list: [83900.0, 84090.9, 84399.99]\n",
      "Predicted price list: [None, 84351.8671875, 84220.375]\n",
      "Prediction: 84252.1015625\n",
      "Money list: [1000, 0, 1003.9484436232419]\n",
      "Coins list: [0, 0.011907032181168056, 0]\n",
      "\n",
      "\n",
      "-----------------------\n",
      "\n",
      "\n"
     ]
    },
    {
     "name": "stderr",
     "output_type": "stream",
     "text": [
      "C:\\Users\\userr\\AppData\\Local\\Temp\\ipykernel_11812\\1969906219.py:50: FutureWarning: Series.__getitem__ treating keys as positions is deprecated. In a future version, integer keys will always be treated as labels (consistent with DataFrame behavior). To access a value by position, use `ser.iloc[pos]`\n",
      "  real_price.append(float(btc.iloc[:]['close'][-1]))\n"
     ]
    },
    {
     "name": "stdout",
     "output_type": "stream",
     "text": [
      "Real price list: [83900.0, 84090.9, 84399.99, 84474.0]\n",
      "Predicted price list: [None, 84351.8671875, 84220.375, 84252.1015625]\n",
      "Prediction: 84343.3984375\n",
      "Money list: [1000, 0, 1003.9484436232419]\n",
      "Coins list: [0, 0.011907032181168056, 0]\n",
      "\n",
      "\n",
      "-----------------------\n",
      "\n",
      "\n"
     ]
    },
    {
     "name": "stderr",
     "output_type": "stream",
     "text": [
      "C:\\Users\\userr\\AppData\\Local\\Temp\\ipykernel_11812\\1969906219.py:50: FutureWarning: Series.__getitem__ treating keys as positions is deprecated. In a future version, integer keys will always be treated as labels (consistent with DataFrame behavior). To access a value by position, use `ser.iloc[pos]`\n",
      "  real_price.append(float(btc.iloc[:]['close'][-1]))\n"
     ]
    },
    {
     "name": "stdout",
     "output_type": "stream",
     "text": [
      "Real price list: [83900.0, 84090.9, 84399.99, 84474.0, 84381.71]\n",
      "Predicted price list: [None, 84351.8671875, 84220.375, 84252.1015625, 84343.3984375]\n",
      "Prediction: 84362.515625\n",
      "Money list: [1000, 0, 1003.9484436232419]\n",
      "Coins list: [0, 0.011907032181168056, 0]\n",
      "\n",
      "\n",
      "-----------------------\n",
      "\n",
      "\n"
     ]
    },
    {
     "name": "stderr",
     "output_type": "stream",
     "text": [
      "C:\\Users\\userr\\AppData\\Local\\Temp\\ipykernel_11812\\1969906219.py:50: FutureWarning: Series.__getitem__ treating keys as positions is deprecated. In a future version, integer keys will always be treated as labels (consistent with DataFrame behavior). To access a value by position, use `ser.iloc[pos]`\n",
      "  real_price.append(float(btc.iloc[:]['close'][-1]))\n"
     ]
    },
    {
     "name": "stdout",
     "output_type": "stream",
     "text": [
      "Real price list: [83900.0, 84090.9, 84399.99, 84474.0, 84381.71, 84408.79]\n",
      "Predicted price list: [None, 84351.8671875, 84220.375, 84252.1015625, 84343.3984375, 84362.515625]\n",
      "Prediction: 84454.2421875\n",
      "Money list: [1000, 0, 1003.9484436232419]\n",
      "Coins list: [0, 0.011907032181168056, 0]\n",
      "\n",
      "\n",
      "-----------------------\n",
      "\n",
      "\n"
     ]
    },
    {
     "name": "stderr",
     "output_type": "stream",
     "text": [
      "C:\\Users\\userr\\AppData\\Local\\Temp\\ipykernel_11812\\1969906219.py:50: FutureWarning: Series.__getitem__ treating keys as positions is deprecated. In a future version, integer keys will always be treated as labels (consistent with DataFrame behavior). To access a value by position, use `ser.iloc[pos]`\n",
      "  real_price.append(float(btc.iloc[:]['close'][-1]))\n"
     ]
    },
    {
     "name": "stdout",
     "output_type": "stream",
     "text": [
      "Real price list: [83900.0, 84090.9, 84399.99, 84474.0, 84381.71, 84408.79, 84430.0]\n",
      "Predicted price list: [None, 84351.8671875, 84220.375, 84252.1015625, 84343.3984375, 84362.515625, 84454.2421875]\n",
      "Prediction: 84528.1484375\n",
      "Money list: [1000, 0, 1003.9484436232419]\n",
      "Coins list: [0, 0.011907032181168056, 0]\n",
      "\n",
      "\n",
      "-----------------------\n",
      "\n",
      "\n"
     ]
    },
    {
     "name": "stderr",
     "output_type": "stream",
     "text": [
      "C:\\Users\\userr\\AppData\\Local\\Temp\\ipykernel_11812\\1969906219.py:50: FutureWarning: Series.__getitem__ treating keys as positions is deprecated. In a future version, integer keys will always be treated as labels (consistent with DataFrame behavior). To access a value by position, use `ser.iloc[pos]`\n",
      "  real_price.append(float(btc.iloc[:]['close'][-1]))\n"
     ]
    },
    {
     "name": "stdout",
     "output_type": "stream",
     "text": [
      "Real price list: [83900.0, 84090.9, 84399.99, 84474.0, 84381.71, 84408.79, 84430.0, 84489.61]\n",
      "Predicted price list: [None, 84351.8671875, 84220.375, 84252.1015625, 84343.3984375, 84362.515625, 84454.2421875, 84528.1484375]\n",
      "Prediction: 84551.390625\n",
      "Money list: [1000, 0, 1003.9484436232419]\n",
      "Coins list: [0, 0.011907032181168056, 0]\n",
      "\n",
      "\n",
      "-----------------------\n",
      "\n",
      "\n"
     ]
    },
    {
     "name": "stderr",
     "output_type": "stream",
     "text": [
      "C:\\Users\\userr\\AppData\\Local\\Temp\\ipykernel_11812\\1969906219.py:50: FutureWarning: Series.__getitem__ treating keys as positions is deprecated. In a future version, integer keys will always be treated as labels (consistent with DataFrame behavior). To access a value by position, use `ser.iloc[pos]`\n",
      "  real_price.append(float(btc.iloc[:]['close'][-1]))\n"
     ]
    },
    {
     "name": "stdout",
     "output_type": "stream",
     "text": [
      "Real price list: [83900.0, 84090.9, 84399.99, 84474.0, 84381.71, 84408.79, 84430.0, 84489.61, 84355.99]\n",
      "Predicted price list: [None, 84351.8671875, 84220.375, 84252.1015625, 84343.3984375, 84362.515625, 84454.2421875, 84528.1484375, 84551.390625]\n",
      "Prediction: 84546.4609375\n",
      "Money list: [1000, 0, 1003.9484436232419, 0]\n",
      "Coins list: [0, 0.011907032181168056, 0, 0.01188942830473116]\n",
      "\n",
      "\n",
      "-----------------------\n",
      "\n",
      "\n"
     ]
    },
    {
     "name": "stderr",
     "output_type": "stream",
     "text": [
      "C:\\Users\\userr\\AppData\\Local\\Temp\\ipykernel_11812\\1969906219.py:50: FutureWarning: Series.__getitem__ treating keys as positions is deprecated. In a future version, integer keys will always be treated as labels (consistent with DataFrame behavior). To access a value by position, use `ser.iloc[pos]`\n",
      "  real_price.append(float(btc.iloc[:]['close'][-1]))\n"
     ]
    },
    {
     "name": "stdout",
     "output_type": "stream",
     "text": [
      "Real price list: [83900.0, 84090.9, 84399.99, 84474.0, 84381.71, 84408.79, 84430.0, 84489.61, 84355.99, 84160.0]\n",
      "Predicted price list: [None, 84351.8671875, 84220.375, 84252.1015625, 84343.3984375, 84362.515625, 84454.2421875, 84528.1484375, 84551.390625, 84546.4609375]\n",
      "Prediction: 84476.671875\n",
      "Money list: [1000, 0, 1003.9484436232419, 0]\n",
      "Coins list: [0, 0.011907032181168056, 0, 0.01188942830473116]\n",
      "\n",
      "\n",
      "-----------------------\n",
      "\n",
      "\n"
     ]
    },
    {
     "name": "stderr",
     "output_type": "stream",
     "text": [
      "C:\\Users\\userr\\AppData\\Local\\Temp\\ipykernel_11812\\1969906219.py:50: FutureWarning: Series.__getitem__ treating keys as positions is deprecated. In a future version, integer keys will always be treated as labels (consistent with DataFrame behavior). To access a value by position, use `ser.iloc[pos]`\n",
      "  real_price.append(float(btc.iloc[:]['close'][-1]))\n"
     ]
    },
    {
     "name": "stdout",
     "output_type": "stream",
     "text": [
      "Real price list: [83900.0, 84090.9, 84399.99, 84474.0, 84381.71, 84408.79, 84430.0, 84489.61, 84355.99, 84160.0, 84002.01]\n",
      "Predicted price list: [None, 84351.8671875, 84220.375, 84252.1015625, 84343.3984375, 84362.515625, 84454.2421875, 84528.1484375, 84551.390625, 84546.4609375, 84476.671875]\n",
      "Prediction: 84361.6953125\n",
      "Money list: [1000, 0, 1003.9484436232419, 0]\n",
      "Coins list: [0, 0.011907032181168056, 0, 0.01188942830473116]\n",
      "\n",
      "\n",
      "-----------------------\n",
      "\n",
      "\n"
     ]
    },
    {
     "name": "stderr",
     "output_type": "stream",
     "text": [
      "C:\\Users\\userr\\AppData\\Local\\Temp\\ipykernel_11812\\1969906219.py:50: FutureWarning: Series.__getitem__ treating keys as positions is deprecated. In a future version, integer keys will always be treated as labels (consistent with DataFrame behavior). To access a value by position, use `ser.iloc[pos]`\n",
      "  real_price.append(float(btc.iloc[:]['close'][-1]))\n"
     ]
    },
    {
     "name": "stdout",
     "output_type": "stream",
     "text": [
      "Real price list: [83900.0, 84090.9, 84399.99, 84474.0, 84381.71, 84408.79, 84430.0, 84489.61, 84355.99, 84160.0, 84002.01, 84171.48]\n",
      "Predicted price list: [None, 84351.8671875, 84220.375, 84252.1015625, 84343.3984375, 84362.515625, 84454.2421875, 84528.1484375, 84551.390625, 84546.4609375, 84476.671875, 84361.6953125]\n",
      "Prediction: 84297.5859375\n",
      "Money list: [1000, 0, 1003.9484436232419, 0]\n",
      "Coins list: [0, 0.011907032181168056, 0, 0.01188942830473116]\n",
      "\n",
      "\n",
      "-----------------------\n",
      "\n",
      "\n"
     ]
    },
    {
     "name": "stderr",
     "output_type": "stream",
     "text": [
      "C:\\Users\\userr\\AppData\\Local\\Temp\\ipykernel_11812\\1969906219.py:50: FutureWarning: Series.__getitem__ treating keys as positions is deprecated. In a future version, integer keys will always be treated as labels (consistent with DataFrame behavior). To access a value by position, use `ser.iloc[pos]`\n",
      "  real_price.append(float(btc.iloc[:]['close'][-1]))\n"
     ]
    },
    {
     "name": "stdout",
     "output_type": "stream",
     "text": [
      "Real price list: [83900.0, 84090.9, 84399.99, 84474.0, 84381.71, 84408.79, 84430.0, 84489.61, 84355.99, 84160.0, 84002.01, 84171.48, 84248.49]\n",
      "Predicted price list: [None, 84351.8671875, 84220.375, 84252.1015625, 84343.3984375, 84362.515625, 84454.2421875, 84528.1484375, 84551.390625, 84546.4609375, 84476.671875, 84361.6953125, 84297.5859375]\n",
      "Prediction: 84278.7890625\n",
      "Money list: [1000, 0, 1003.9484436232419, 0]\n",
      "Coins list: [0, 0.011907032181168056, 0, 0.01188942830473116]\n",
      "\n",
      "\n",
      "-----------------------\n",
      "\n",
      "\n"
     ]
    },
    {
     "name": "stderr",
     "output_type": "stream",
     "text": [
      "C:\\Users\\userr\\AppData\\Local\\Temp\\ipykernel_11812\\1969906219.py:50: FutureWarning: Series.__getitem__ treating keys as positions is deprecated. In a future version, integer keys will always be treated as labels (consistent with DataFrame behavior). To access a value by position, use `ser.iloc[pos]`\n",
      "  real_price.append(float(btc.iloc[:]['close'][-1]))\n"
     ]
    },
    {
     "name": "stdout",
     "output_type": "stream",
     "text": [
      "Real price list: [83900.0, 84090.9, 84399.99, 84474.0, 84381.71, 84408.79, 84430.0, 84489.61, 84355.99, 84160.0, 84002.01, 84171.48, 84248.49, 84299.64]\n",
      "Predicted price list: [None, 84351.8671875, 84220.375, 84252.1015625, 84343.3984375, 84362.515625, 84454.2421875, 84528.1484375, 84551.390625, 84546.4609375, 84476.671875, 84361.6953125, 84297.5859375, 84278.7890625]\n",
      "Prediction: 84311.5390625\n",
      "Money list: [1000, 0, 1003.9484436232419, 0]\n",
      "Coins list: [0, 0.011907032181168056, 0, 0.01188942830473116]\n",
      "\n",
      "\n",
      "-----------------------\n",
      "\n",
      "\n"
     ]
    },
    {
     "name": "stderr",
     "output_type": "stream",
     "text": [
      "C:\\Users\\userr\\AppData\\Local\\Temp\\ipykernel_11812\\1969906219.py:50: FutureWarning: Series.__getitem__ treating keys as positions is deprecated. In a future version, integer keys will always be treated as labels (consistent with DataFrame behavior). To access a value by position, use `ser.iloc[pos]`\n",
      "  real_price.append(float(btc.iloc[:]['close'][-1]))\n"
     ]
    },
    {
     "name": "stdout",
     "output_type": "stream",
     "text": [
      "Real price list: [83900.0, 84090.9, 84399.99, 84474.0, 84381.71, 84408.79, 84430.0, 84489.61, 84355.99, 84160.0, 84002.01, 84171.48, 84248.49, 84299.64, 84200.86]\n",
      "Predicted price list: [None, 84351.8671875, 84220.375, 84252.1015625, 84343.3984375, 84362.515625, 84454.2421875, 84528.1484375, 84551.390625, 84546.4609375, 84476.671875, 84361.6953125, 84297.5859375, 84278.7890625, 84311.5390625]\n",
      "Prediction: 84327.0546875\n",
      "Money list: [1000, 0, 1003.9484436232419, 0]\n",
      "Coins list: [0, 0.011907032181168056, 0, 0.01188942830473116]\n",
      "\n",
      "\n",
      "-----------------------\n",
      "\n",
      "\n"
     ]
    },
    {
     "name": "stderr",
     "output_type": "stream",
     "text": [
      "C:\\Users\\userr\\AppData\\Local\\Temp\\ipykernel_11812\\1969906219.py:50: FutureWarning: Series.__getitem__ treating keys as positions is deprecated. In a future version, integer keys will always be treated as labels (consistent with DataFrame behavior). To access a value by position, use `ser.iloc[pos]`\n",
      "  real_price.append(float(btc.iloc[:]['close'][-1]))\n"
     ]
    },
    {
     "name": "stdout",
     "output_type": "stream",
     "text": [
      "Real price list: [83900.0, 84090.9, 84399.99, 84474.0, 84381.71, 84408.79, 84430.0, 84489.61, 84355.99, 84160.0, 84002.01, 84171.48, 84248.49, 84299.64, 84200.86, 84121.77]\n",
      "Predicted price list: [None, 84351.8671875, 84220.375, 84252.1015625, 84343.3984375, 84362.515625, 84454.2421875, 84528.1484375, 84551.390625, 84546.4609375, 84476.671875, 84361.6953125, 84297.5859375, 84278.7890625, 84311.5390625, 84327.0546875]\n",
      "Prediction: 84314.9609375\n",
      "Money list: [1000, 0, 1003.9484436232419, 0]\n",
      "Coins list: [0, 0.011907032181168056, 0, 0.01188942830473116]\n",
      "\n",
      "\n",
      "-----------------------\n",
      "\n",
      "\n"
     ]
    },
    {
     "name": "stderr",
     "output_type": "stream",
     "text": [
      "C:\\Users\\userr\\AppData\\Local\\Temp\\ipykernel_11812\\1969906219.py:50: FutureWarning: Series.__getitem__ treating keys as positions is deprecated. In a future version, integer keys will always be treated as labels (consistent with DataFrame behavior). To access a value by position, use `ser.iloc[pos]`\n",
      "  real_price.append(float(btc.iloc[:]['close'][-1]))\n"
     ]
    },
    {
     "name": "stdout",
     "output_type": "stream",
     "text": [
      "Real price list: [83900.0, 84090.9, 84399.99, 84474.0, 84381.71, 84408.79, 84430.0, 84489.61, 84355.99, 84160.0, 84002.01, 84171.48, 84248.49, 84299.64, 84200.86, 84121.77, 84165.93]\n",
      "Predicted price list: [None, 84351.8671875, 84220.375, 84252.1015625, 84343.3984375, 84362.515625, 84454.2421875, 84528.1484375, 84551.390625, 84546.4609375, 84476.671875, 84361.6953125, 84297.5859375, 84278.7890625, 84311.5390625, 84327.0546875, 84314.9609375]\n",
      "Prediction: 84334.4765625\n",
      "Money list: [1000, 0, 1003.9484436232419, 0]\n",
      "Coins list: [0, 0.011907032181168056, 0, 0.01188942830473116]\n",
      "\n",
      "\n",
      "-----------------------\n",
      "\n",
      "\n"
     ]
    },
    {
     "name": "stderr",
     "output_type": "stream",
     "text": [
      "C:\\Users\\userr\\AppData\\Local\\Temp\\ipykernel_11812\\1969906219.py:50: FutureWarning: Series.__getitem__ treating keys as positions is deprecated. In a future version, integer keys will always be treated as labels (consistent with DataFrame behavior). To access a value by position, use `ser.iloc[pos]`\n",
      "  real_price.append(float(btc.iloc[:]['close'][-1]))\n"
     ]
    },
    {
     "name": "stdout",
     "output_type": "stream",
     "text": [
      "Real price list: [83900.0, 84090.9, 84399.99, 84474.0, 84381.71, 84408.79, 84430.0, 84489.61, 84355.99, 84160.0, 84002.01, 84171.48, 84248.49, 84299.64, 84200.86, 84121.77, 84165.93, 83932.01]\n",
      "Predicted price list: [None, 84351.8671875, 84220.375, 84252.1015625, 84343.3984375, 84362.515625, 84454.2421875, 84528.1484375, 84551.390625, 84546.4609375, 84476.671875, 84361.6953125, 84297.5859375, 84278.7890625, 84311.5390625, 84327.0546875, 84314.9609375, 84334.4765625]\n",
      "Prediction: 84213.6484375\n",
      "Money list: [1000, 0, 1003.9484436232419, 0]\n",
      "Coins list: [0, 0.011907032181168056, 0, 0.01188942830473116]\n",
      "\n",
      "\n",
      "-----------------------\n",
      "\n",
      "\n"
     ]
    },
    {
     "name": "stderr",
     "output_type": "stream",
     "text": [
      "C:\\Users\\userr\\AppData\\Local\\Temp\\ipykernel_11812\\1969906219.py:50: FutureWarning: Series.__getitem__ treating keys as positions is deprecated. In a future version, integer keys will always be treated as labels (consistent with DataFrame behavior). To access a value by position, use `ser.iloc[pos]`\n",
      "  real_price.append(float(btc.iloc[:]['close'][-1]))\n"
     ]
    },
    {
     "name": "stdout",
     "output_type": "stream",
     "text": [
      "Real price list: [83900.0, 84090.9, 84399.99, 84474.0, 84381.71, 84408.79, 84430.0, 84489.61, 84355.99, 84160.0, 84002.01, 84171.48, 84248.49, 84299.64, 84200.86, 84121.77, 84165.93, 83932.01, 83922.43]\n",
      "Predicted price list: [None, 84351.8671875, 84220.375, 84252.1015625, 84343.3984375, 84362.515625, 84454.2421875, 84528.1484375, 84551.390625, 84546.4609375, 84476.671875, 84361.6953125, 84297.5859375, 84278.7890625, 84311.5390625, 84327.0546875, 84314.9609375, 84334.4765625, 84213.6484375]\n",
      "Prediction: 84161.109375\n",
      "Money list: [1000, 0, 1003.9484436232419, 0]\n",
      "Coins list: [0, 0.011907032181168056, 0, 0.01188942830473116]\n",
      "\n",
      "\n",
      "-----------------------\n",
      "\n",
      "\n"
     ]
    },
    {
     "name": "stderr",
     "output_type": "stream",
     "text": [
      "C:\\Users\\userr\\AppData\\Local\\Temp\\ipykernel_11812\\1969906219.py:50: FutureWarning: Series.__getitem__ treating keys as positions is deprecated. In a future version, integer keys will always be treated as labels (consistent with DataFrame behavior). To access a value by position, use `ser.iloc[pos]`\n",
      "  real_price.append(float(btc.iloc[:]['close'][-1]))\n"
     ]
    },
    {
     "name": "stdout",
     "output_type": "stream",
     "text": [
      "Real price list: [83900.0, 84090.9, 84399.99, 84474.0, 84381.71, 84408.79, 84430.0, 84489.61, 84355.99, 84160.0, 84002.01, 84171.48, 84248.49, 84299.64, 84200.86, 84121.77, 84165.93, 83932.01, 83922.43, 84024.81]\n",
      "Predicted price list: [None, 84351.8671875, 84220.375, 84252.1015625, 84343.3984375, 84362.515625, 84454.2421875, 84528.1484375, 84551.390625, 84546.4609375, 84476.671875, 84361.6953125, 84297.5859375, 84278.7890625, 84311.5390625, 84327.0546875, 84314.9609375, 84334.4765625, 84213.6484375, 84161.109375]\n",
      "Prediction: 84134.0625\n",
      "Money list: [1000, 0, 1003.9484436232419, 0]\n",
      "Coins list: [0, 0.011907032181168056, 0, 0.01188942830473116]\n",
      "\n",
      "\n",
      "-----------------------\n",
      "\n",
      "\n"
     ]
    },
    {
     "name": "stderr",
     "output_type": "stream",
     "text": [
      "C:\\Users\\userr\\AppData\\Local\\Temp\\ipykernel_11812\\1969906219.py:50: FutureWarning: Series.__getitem__ treating keys as positions is deprecated. In a future version, integer keys will always be treated as labels (consistent with DataFrame behavior). To access a value by position, use `ser.iloc[pos]`\n",
      "  real_price.append(float(btc.iloc[:]['close'][-1]))\n"
     ]
    },
    {
     "name": "stdout",
     "output_type": "stream",
     "text": [
      "Real price list: [83900.0, 84090.9, 84399.99, 84474.0, 84381.71, 84408.79, 84430.0, 84489.61, 84355.99, 84160.0, 84002.01, 84171.48, 84248.49, 84299.64, 84200.86, 84121.77, 84165.93, 83932.01, 83922.43, 84024.81, 84242.36]\n",
      "Predicted price list: [None, 84351.8671875, 84220.375, 84252.1015625, 84343.3984375, 84362.515625, 84454.2421875, 84528.1484375, 84551.390625, 84546.4609375, 84476.671875, 84361.6953125, 84297.5859375, 84278.7890625, 84311.5390625, 84327.0546875, 84314.9609375, 84334.4765625, 84213.6484375, 84161.109375, 84134.0625]\n",
      "Prediction: 84175.9375\n",
      "Money list: [1000, 0, 1003.9484436232419, 0, 1000.5919059419107]\n",
      "Coins list: [0, 0.011907032181168056, 0, 0.01188942830473116, 0]\n",
      "\n",
      "\n",
      "-----------------------\n",
      "\n",
      "\n"
     ]
    },
    {
     "name": "stderr",
     "output_type": "stream",
     "text": [
      "C:\\Users\\userr\\AppData\\Local\\Temp\\ipykernel_11812\\1969906219.py:50: FutureWarning: Series.__getitem__ treating keys as positions is deprecated. In a future version, integer keys will always be treated as labels (consistent with DataFrame behavior). To access a value by position, use `ser.iloc[pos]`\n",
      "  real_price.append(float(btc.iloc[:]['close'][-1]))\n"
     ]
    },
    {
     "name": "stdout",
     "output_type": "stream",
     "text": [
      "Real price list: [83900.0, 84090.9, 84399.99, 84474.0, 84381.71, 84408.79, 84430.0, 84489.61, 84355.99, 84160.0, 84002.01, 84171.48, 84248.49, 84299.64, 84200.86, 84121.77, 84165.93, 83932.01, 83922.43, 84024.81, 84242.36, 84459.99]\n",
      "Predicted price list: [None, 84351.8671875, 84220.375, 84252.1015625, 84343.3984375, 84362.515625, 84454.2421875, 84528.1484375, 84551.390625, 84546.4609375, 84476.671875, 84361.6953125, 84297.5859375, 84278.7890625, 84311.5390625, 84327.0546875, 84314.9609375, 84334.4765625, 84213.6484375, 84161.109375, 84134.0625, 84175.9375]\n",
      "Prediction: 84256.0859375\n",
      "Money list: [1000, 0, 1003.9484436232419, 0, 1000.5919059419107]\n",
      "Coins list: [0, 0.011907032181168056, 0, 0.01188942830473116, 0]\n",
      "\n",
      "\n",
      "-----------------------\n",
      "\n",
      "\n"
     ]
    },
    {
     "name": "stderr",
     "output_type": "stream",
     "text": [
      "C:\\Users\\userr\\AppData\\Local\\Temp\\ipykernel_11812\\1969906219.py:50: FutureWarning: Series.__getitem__ treating keys as positions is deprecated. In a future version, integer keys will always be treated as labels (consistent with DataFrame behavior). To access a value by position, use `ser.iloc[pos]`\n",
      "  real_price.append(float(btc.iloc[:]['close'][-1]))\n"
     ]
    },
    {
     "name": "stdout",
     "output_type": "stream",
     "text": [
      "Real price list: [83900.0, 84090.9, 84399.99, 84474.0, 84381.71, 84408.79, 84430.0, 84489.61, 84355.99, 84160.0, 84002.01, 84171.48, 84248.49, 84299.64, 84200.86, 84121.77, 84165.93, 83932.01, 83922.43, 84024.81, 84242.36, 84459.99, 84443.33]\n",
      "Predicted price list: [None, 84351.8671875, 84220.375, 84252.1015625, 84343.3984375, 84362.515625, 84454.2421875, 84528.1484375, 84551.390625, 84546.4609375, 84476.671875, 84361.6953125, 84297.5859375, 84278.7890625, 84311.5390625, 84327.0546875, 84314.9609375, 84334.4765625, 84213.6484375, 84161.109375, 84134.0625, 84175.9375, 84256.0859375]\n",
      "Prediction: 84326.5546875\n",
      "Money list: [1000, 0, 1003.9484436232419, 0, 1000.5919059419107]\n",
      "Coins list: [0, 0.011907032181168056, 0, 0.01188942830473116, 0]\n",
      "\n",
      "\n",
      "-----------------------\n",
      "\n",
      "\n"
     ]
    },
    {
     "name": "stderr",
     "output_type": "stream",
     "text": [
      "C:\\Users\\userr\\AppData\\Local\\Temp\\ipykernel_11812\\1969906219.py:50: FutureWarning: Series.__getitem__ treating keys as positions is deprecated. In a future version, integer keys will always be treated as labels (consistent with DataFrame behavior). To access a value by position, use `ser.iloc[pos]`\n",
      "  real_price.append(float(btc.iloc[:]['close'][-1]))\n"
     ]
    },
    {
     "name": "stdout",
     "output_type": "stream",
     "text": [
      "Real price list: [83900.0, 84090.9, 84399.99, 84474.0, 84381.71, 84408.79, 84430.0, 84489.61, 84355.99, 84160.0, 84002.01, 84171.48, 84248.49, 84299.64, 84200.86, 84121.77, 84165.93, 83932.01, 83922.43, 84024.81, 84242.36, 84459.99, 84443.33, 84815.0]\n",
      "Predicted price list: [None, 84351.8671875, 84220.375, 84252.1015625, 84343.3984375, 84362.515625, 84454.2421875, 84528.1484375, 84551.390625, 84546.4609375, 84476.671875, 84361.6953125, 84297.5859375, 84278.7890625, 84311.5390625, 84327.0546875, 84314.9609375, 84334.4765625, 84213.6484375, 84161.109375, 84134.0625, 84175.9375, 84256.0859375, 84326.5546875]\n",
      "Prediction: 84495.4765625\n",
      "Money list: [1000, 0, 1003.9484436232419, 0, 1000.5919059419107]\n",
      "Coins list: [0, 0.011907032181168056, 0, 0.01188942830473116, 0]\n",
      "\n",
      "\n",
      "-----------------------\n",
      "\n",
      "\n"
     ]
    },
    {
     "name": "stderr",
     "output_type": "stream",
     "text": [
      "C:\\Users\\userr\\AppData\\Local\\Temp\\ipykernel_11812\\1969906219.py:50: FutureWarning: Series.__getitem__ treating keys as positions is deprecated. In a future version, integer keys will always be treated as labels (consistent with DataFrame behavior). To access a value by position, use `ser.iloc[pos]`\n",
      "  real_price.append(float(btc.iloc[:]['close'][-1]))\n"
     ]
    },
    {
     "name": "stdout",
     "output_type": "stream",
     "text": [
      "Real price list: [83900.0, 84090.9, 84399.99, 84474.0, 84381.71, 84408.79, 84430.0, 84489.61, 84355.99, 84160.0, 84002.01, 84171.48, 84248.49, 84299.64, 84200.86, 84121.77, 84165.93, 83932.01, 83922.43, 84024.81, 84242.36, 84459.99, 84443.33, 84815.0, 84395.82]\n",
      "Predicted price list: [None, 84351.8671875, 84220.375, 84252.1015625, 84343.3984375, 84362.515625, 84454.2421875, 84528.1484375, 84551.390625, 84546.4609375, 84476.671875, 84361.6953125, 84297.5859375, 84278.7890625, 84311.5390625, 84327.0546875, 84314.9609375, 84334.4765625, 84213.6484375, 84161.109375, 84134.0625, 84175.9375, 84256.0859375, 84326.5546875, 84495.4765625]\n",
      "Prediction: 84713.5390625\n",
      "Money list: [1000, 0, 1003.9484436232419, 0, 1000.5919059419107, 0]\n",
      "Coins list: [0, 0.011907032181168056, 0, 0.01188942830473116, 0, 0.011844085572436748]\n",
      "\n",
      "\n",
      "-----------------------\n",
      "\n",
      "\n"
     ]
    },
    {
     "name": "stderr",
     "output_type": "stream",
     "text": [
      "C:\\Users\\userr\\AppData\\Local\\Temp\\ipykernel_11812\\1969906219.py:50: FutureWarning: Series.__getitem__ treating keys as positions is deprecated. In a future version, integer keys will always be treated as labels (consistent with DataFrame behavior). To access a value by position, use `ser.iloc[pos]`\n",
      "  real_price.append(float(btc.iloc[:]['close'][-1]))\n"
     ]
    },
    {
     "name": "stdout",
     "output_type": "stream",
     "text": [
      "Real price list: [83900.0, 84090.9, 84399.99, 84474.0, 84381.71, 84408.79, 84430.0, 84489.61, 84355.99, 84160.0, 84002.01, 84171.48, 84248.49, 84299.64, 84200.86, 84121.77, 84165.93, 83932.01, 83922.43, 84024.81, 84242.36, 84459.99, 84443.33, 84815.0, 84395.82, 84486.58]\n",
      "Predicted price list: [None, 84351.8671875, 84220.375, 84252.1015625, 84343.3984375, 84362.515625, 84454.2421875, 84528.1484375, 84551.390625, 84546.4609375, 84476.671875, 84361.6953125, 84297.5859375, 84278.7890625, 84311.5390625, 84327.0546875, 84314.9609375, 84334.4765625, 84213.6484375, 84161.109375, 84134.0625, 84175.9375, 84256.0859375, 84326.5546875, 84495.4765625, 84713.5390625]\n",
      "Prediction: 84656.3515625\n",
      "Money list: [1000, 0, 1003.9484436232419, 0, 1000.5919059419107, 0]\n",
      "Coins list: [0, 0.011907032181168056, 0, 0.01188942830473116, 0, 0.011844085572436748]\n",
      "\n",
      "\n",
      "-----------------------\n",
      "\n",
      "\n"
     ]
    },
    {
     "name": "stderr",
     "output_type": "stream",
     "text": [
      "C:\\Users\\userr\\AppData\\Local\\Temp\\ipykernel_11812\\1969906219.py:50: FutureWarning: Series.__getitem__ treating keys as positions is deprecated. In a future version, integer keys will always be treated as labels (consistent with DataFrame behavior). To access a value by position, use `ser.iloc[pos]`\n",
      "  real_price.append(float(btc.iloc[:]['close'][-1]))\n"
     ]
    },
    {
     "name": "stdout",
     "output_type": "stream",
     "text": [
      "Real price list: [83900.0, 84090.9, 84399.99, 84474.0, 84381.71, 84408.79, 84430.0, 84489.61, 84355.99, 84160.0, 84002.01, 84171.48, 84248.49, 84299.64, 84200.86, 84121.77, 84165.93, 83932.01, 83922.43, 84024.81, 84242.36, 84459.99, 84443.33, 84815.0, 84395.82, 84486.58, 84325.02]\n",
      "Predicted price list: [None, 84351.8671875, 84220.375, 84252.1015625, 84343.3984375, 84362.515625, 84454.2421875, 84528.1484375, 84551.390625, 84546.4609375, 84476.671875, 84361.6953125, 84297.5859375, 84278.7890625, 84311.5390625, 84327.0546875, 84314.9609375, 84334.4765625, 84213.6484375, 84161.109375, 84134.0625, 84175.9375, 84256.0859375, 84326.5546875, 84495.4765625, 84713.5390625, 84656.3515625]\n",
      "Prediction: 84588.4921875\n",
      "Money list: [1000, 0, 1003.9484436232419, 0, 1000.5919059419107, 0]\n",
      "Coins list: [0, 0.011907032181168056, 0, 0.01188942830473116, 0, 0.011844085572436748]\n",
      "\n",
      "\n",
      "-----------------------\n",
      "\n",
      "\n"
     ]
    },
    {
     "name": "stderr",
     "output_type": "stream",
     "text": [
      "C:\\Users\\userr\\AppData\\Local\\Temp\\ipykernel_11812\\1969906219.py:50: FutureWarning: Series.__getitem__ treating keys as positions is deprecated. In a future version, integer keys will always be treated as labels (consistent with DataFrame behavior). To access a value by position, use `ser.iloc[pos]`\n",
      "  real_price.append(float(btc.iloc[:]['close'][-1]))\n"
     ]
    },
    {
     "name": "stdout",
     "output_type": "stream",
     "text": [
      "Real price list: [83900.0, 84090.9, 84399.99, 84474.0, 84381.71, 84408.79, 84430.0, 84489.61, 84355.99, 84160.0, 84002.01, 84171.48, 84248.49, 84299.64, 84200.86, 84121.77, 84165.93, 83932.01, 83922.43, 84024.81, 84242.36, 84459.99, 84443.33, 84815.0, 84395.82, 84486.58, 84325.02, 84355.12]\n",
      "Predicted price list: [None, 84351.8671875, 84220.375, 84252.1015625, 84343.3984375, 84362.515625, 84454.2421875, 84528.1484375, 84551.390625, 84546.4609375, 84476.671875, 84361.6953125, 84297.5859375, 84278.7890625, 84311.5390625, 84327.0546875, 84314.9609375, 84334.4765625, 84213.6484375, 84161.109375, 84134.0625, 84175.9375, 84256.0859375, 84326.5546875, 84495.4765625, 84713.5390625, 84656.3515625, 84588.4921875]\n",
      "Prediction: 84537.1328125\n",
      "Money list: [1000, 0, 1003.9484436232419, 0, 1000.5919059419107, 0]\n",
      "Coins list: [0, 0.011907032181168056, 0, 0.01188942830473116, 0, 0.011844085572436748]\n",
      "\n",
      "\n",
      "-----------------------\n",
      "\n",
      "\n"
     ]
    },
    {
     "name": "stderr",
     "output_type": "stream",
     "text": [
      "C:\\Users\\userr\\AppData\\Local\\Temp\\ipykernel_11812\\1969906219.py:50: FutureWarning: Series.__getitem__ treating keys as positions is deprecated. In a future version, integer keys will always be treated as labels (consistent with DataFrame behavior). To access a value by position, use `ser.iloc[pos]`\n",
      "  real_price.append(float(btc.iloc[:]['close'][-1]))\n"
     ]
    },
    {
     "name": "stdout",
     "output_type": "stream",
     "text": [
      "Real price list: [83900.0, 84090.9, 84399.99, 84474.0, 84381.71, 84408.79, 84430.0, 84489.61, 84355.99, 84160.0, 84002.01, 84171.48, 84248.49, 84299.64, 84200.86, 84121.77, 84165.93, 83932.01, 83922.43, 84024.81, 84242.36, 84459.99, 84443.33, 84815.0, 84395.82, 84486.58, 84325.02, 84355.12, 84428.66]\n",
      "Predicted price list: [None, 84351.8671875, 84220.375, 84252.1015625, 84343.3984375, 84362.515625, 84454.2421875, 84528.1484375, 84551.390625, 84546.4609375, 84476.671875, 84361.6953125, 84297.5859375, 84278.7890625, 84311.5390625, 84327.0546875, 84314.9609375, 84334.4765625, 84213.6484375, 84161.109375, 84134.0625, 84175.9375, 84256.0859375, 84326.5546875, 84495.4765625, 84713.5390625, 84656.3515625, 84588.4921875, 84537.1328125]\n",
      "Prediction: 84511.171875\n",
      "Money list: [1000, 0, 1003.9484436232419, 0, 1000.5919059419107, 0]\n",
      "Coins list: [0, 0.011907032181168056, 0, 0.01188942830473116, 0, 0.011844085572436748]\n",
      "\n",
      "\n",
      "-----------------------\n",
      "\n",
      "\n"
     ]
    },
    {
     "name": "stderr",
     "output_type": "stream",
     "text": [
      "C:\\Users\\userr\\AppData\\Local\\Temp\\ipykernel_11812\\1969906219.py:50: FutureWarning: Series.__getitem__ treating keys as positions is deprecated. In a future version, integer keys will always be treated as labels (consistent with DataFrame behavior). To access a value by position, use `ser.iloc[pos]`\n",
      "  real_price.append(float(btc.iloc[:]['close'][-1]))\n"
     ]
    },
    {
     "name": "stdout",
     "output_type": "stream",
     "text": [
      "Real price list: [83900.0, 84090.9, 84399.99, 84474.0, 84381.71, 84408.79, 84430.0, 84489.61, 84355.99, 84160.0, 84002.01, 84171.48, 84248.49, 84299.64, 84200.86, 84121.77, 84165.93, 83932.01, 83922.43, 84024.81, 84242.36, 84459.99, 84443.33, 84815.0, 84395.82, 84486.58, 84325.02, 84355.12, 84428.66, 84576.01]\n",
      "Predicted price list: [None, 84351.8671875, 84220.375, 84252.1015625, 84343.3984375, 84362.515625, 84454.2421875, 84528.1484375, 84551.390625, 84546.4609375, 84476.671875, 84361.6953125, 84297.5859375, 84278.7890625, 84311.5390625, 84327.0546875, 84314.9609375, 84334.4765625, 84213.6484375, 84161.109375, 84134.0625, 84175.9375, 84256.0859375, 84326.5546875, 84495.4765625, 84713.5390625, 84656.3515625, 84588.4921875, 84537.1328125, 84511.171875]\n",
      "Prediction: 84525.328125\n",
      "Money list: [1000, 0, 1003.9484436232419, 0, 1000.5919059419107, 0, 1000.7237743154508]\n",
      "Coins list: [0, 0.011907032181168056, 0, 0.01188942830473116, 0, 0.011844085572436748, 0]\n",
      "\n",
      "\n",
      "-----------------------\n",
      "\n",
      "\n"
     ]
    },
    {
     "name": "stderr",
     "output_type": "stream",
     "text": [
      "C:\\Users\\userr\\AppData\\Local\\Temp\\ipykernel_11812\\1969906219.py:50: FutureWarning: Series.__getitem__ treating keys as positions is deprecated. In a future version, integer keys will always be treated as labels (consistent with DataFrame behavior). To access a value by position, use `ser.iloc[pos]`\n",
      "  real_price.append(float(btc.iloc[:]['close'][-1]))\n"
     ]
    },
    {
     "name": "stdout",
     "output_type": "stream",
     "text": [
      "Real price list: [83900.0, 84090.9, 84399.99, 84474.0, 84381.71, 84408.79, 84430.0, 84489.61, 84355.99, 84160.0, 84002.01, 84171.48, 84248.49, 84299.64, 84200.86, 84121.77, 84165.93, 83932.01, 83922.43, 84024.81, 84242.36, 84459.99, 84443.33, 84815.0, 84395.82, 84486.58, 84325.02, 84355.12, 84428.66, 84576.01, 84814.0]\n",
      "Predicted price list: [None, 84351.8671875, 84220.375, 84252.1015625, 84343.3984375, 84362.515625, 84454.2421875, 84528.1484375, 84551.390625, 84546.4609375, 84476.671875, 84361.6953125, 84297.5859375, 84278.7890625, 84311.5390625, 84327.0546875, 84314.9609375, 84334.4765625, 84213.6484375, 84161.109375, 84134.0625, 84175.9375, 84256.0859375, 84326.5546875, 84495.4765625, 84713.5390625, 84656.3515625, 84588.4921875, 84537.1328125, 84511.171875, 84525.328125]\n",
      "Prediction: 84589.375\n",
      "Money list: [1000, 0, 1003.9484436232419, 0, 1000.5919059419107, 0, 1000.7237743154508]\n",
      "Coins list: [0, 0.011907032181168056, 0, 0.01188942830473116, 0, 0.011844085572436748, 0]\n",
      "\n",
      "\n",
      "-----------------------\n",
      "\n",
      "\n"
     ]
    },
    {
     "name": "stderr",
     "output_type": "stream",
     "text": [
      "C:\\Users\\userr\\AppData\\Local\\Temp\\ipykernel_11812\\1969906219.py:50: FutureWarning: Series.__getitem__ treating keys as positions is deprecated. In a future version, integer keys will always be treated as labels (consistent with DataFrame behavior). To access a value by position, use `ser.iloc[pos]`\n",
      "  real_price.append(float(btc.iloc[:]['close'][-1]))\n"
     ]
    },
    {
     "name": "stdout",
     "output_type": "stream",
     "text": [
      "Real price list: [83900.0, 84090.9, 84399.99, 84474.0, 84381.71, 84408.79, 84430.0, 84489.61, 84355.99, 84160.0, 84002.01, 84171.48, 84248.49, 84299.64, 84200.86, 84121.77, 84165.93, 83932.01, 83922.43, 84024.81, 84242.36, 84459.99, 84443.33, 84815.0, 84395.82, 84486.58, 84325.02, 84355.12, 84428.66, 84576.01, 84814.0, 84776.0]\n",
      "Predicted price list: [None, 84351.8671875, 84220.375, 84252.1015625, 84343.3984375, 84362.515625, 84454.2421875, 84528.1484375, 84551.390625, 84546.4609375, 84476.671875, 84361.6953125, 84297.5859375, 84278.7890625, 84311.5390625, 84327.0546875, 84314.9609375, 84334.4765625, 84213.6484375, 84161.109375, 84134.0625, 84175.9375, 84256.0859375, 84326.5546875, 84495.4765625, 84713.5390625, 84656.3515625, 84588.4921875, 84537.1328125, 84511.171875, 84525.328125, 84589.375]\n",
      "Prediction: 84671.578125\n",
      "Money list: [1000, 0, 1003.9484436232419, 0, 1000.5919059419107, 0, 1000.7237743154508]\n",
      "Coins list: [0, 0.011907032181168056, 0, 0.01188942830473116, 0, 0.011844085572436748, 0]\n",
      "\n",
      "\n",
      "-----------------------\n",
      "\n",
      "\n"
     ]
    },
    {
     "name": "stderr",
     "output_type": "stream",
     "text": [
      "C:\\Users\\userr\\AppData\\Local\\Temp\\ipykernel_11812\\1969906219.py:50: FutureWarning: Series.__getitem__ treating keys as positions is deprecated. In a future version, integer keys will always be treated as labels (consistent with DataFrame behavior). To access a value by position, use `ser.iloc[pos]`\n",
      "  real_price.append(float(btc.iloc[:]['close'][-1]))\n"
     ]
    },
    {
     "name": "stdout",
     "output_type": "stream",
     "text": [
      "Real price list: [83900.0, 84090.9, 84399.99, 84474.0, 84381.71, 84408.79, 84430.0, 84489.61, 84355.99, 84160.0, 84002.01, 84171.48, 84248.49, 84299.64, 84200.86, 84121.77, 84165.93, 83932.01, 83922.43, 84024.81, 84242.36, 84459.99, 84443.33, 84815.0, 84395.82, 84486.58, 84325.02, 84355.12, 84428.66, 84576.01, 84814.0, 84776.0, 84614.0]\n",
      "Predicted price list: [None, 84351.8671875, 84220.375, 84252.1015625, 84343.3984375, 84362.515625, 84454.2421875, 84528.1484375, 84551.390625, 84546.4609375, 84476.671875, 84361.6953125, 84297.5859375, 84278.7890625, 84311.5390625, 84327.0546875, 84314.9609375, 84334.4765625, 84213.6484375, 84161.109375, 84134.0625, 84175.9375, 84256.0859375, 84326.5546875, 84495.4765625, 84713.5390625, 84656.3515625, 84588.4921875, 84537.1328125, 84511.171875, 84525.328125, 84589.375, 84671.578125]\n",
      "Prediction: 84720.953125\n",
      "Money list: [1000, 0, 1003.9484436232419, 0, 1000.5919059419107, 0, 1000.7237743154508]\n",
      "Coins list: [0, 0.011907032181168056, 0, 0.01188942830473116, 0, 0.011844085572436748, 0]\n",
      "\n",
      "\n",
      "-----------------------\n",
      "\n",
      "\n"
     ]
    },
    {
     "name": "stderr",
     "output_type": "stream",
     "text": [
      "C:\\Users\\userr\\AppData\\Local\\Temp\\ipykernel_11812\\1969906219.py:50: FutureWarning: Series.__getitem__ treating keys as positions is deprecated. In a future version, integer keys will always be treated as labels (consistent with DataFrame behavior). To access a value by position, use `ser.iloc[pos]`\n",
      "  real_price.append(float(btc.iloc[:]['close'][-1]))\n"
     ]
    },
    {
     "name": "stdout",
     "output_type": "stream",
     "text": [
      "Real price list: [83900.0, 84090.9, 84399.99, 84474.0, 84381.71, 84408.79, 84430.0, 84489.61, 84355.99, 84160.0, 84002.01, 84171.48, 84248.49, 84299.64, 84200.86, 84121.77, 84165.93, 83932.01, 83922.43, 84024.81, 84242.36, 84459.99, 84443.33, 84815.0, 84395.82, 84486.58, 84325.02, 84355.12, 84428.66, 84576.01, 84814.0, 84776.0, 84614.0, 84424.0]\n",
      "Predicted price list: [None, 84351.8671875, 84220.375, 84252.1015625, 84343.3984375, 84362.515625, 84454.2421875, 84528.1484375, 84551.390625, 84546.4609375, 84476.671875, 84361.6953125, 84297.5859375, 84278.7890625, 84311.5390625, 84327.0546875, 84314.9609375, 84334.4765625, 84213.6484375, 84161.109375, 84134.0625, 84175.9375, 84256.0859375, 84326.5546875, 84495.4765625, 84713.5390625, 84656.3515625, 84588.4921875, 84537.1328125, 84511.171875, 84525.328125, 84589.375, 84671.578125, 84720.953125]\n",
      "Prediction: 84721.7734375\n",
      "Money list: [1000, 0, 1003.9484436232419, 0, 1000.5919059419107, 0, 1000.7237743154508, 0]\n",
      "Coins list: [0, 0.011907032181168056, 0, 0.01188942830473116, 0, 0.011844085572436748, 0, 0.011841692534600769]\n",
      "\n",
      "\n",
      "-----------------------\n",
      "\n",
      "\n"
     ]
    },
    {
     "name": "stderr",
     "output_type": "stream",
     "text": [
      "C:\\Users\\userr\\AppData\\Local\\Temp\\ipykernel_11812\\1969906219.py:50: FutureWarning: Series.__getitem__ treating keys as positions is deprecated. In a future version, integer keys will always be treated as labels (consistent with DataFrame behavior). To access a value by position, use `ser.iloc[pos]`\n",
      "  real_price.append(float(btc.iloc[:]['close'][-1]))\n"
     ]
    },
    {
     "name": "stdout",
     "output_type": "stream",
     "text": [
      "Real price list: [83900.0, 84090.9, 84399.99, 84474.0, 84381.71, 84408.79, 84430.0, 84489.61, 84355.99, 84160.0, 84002.01, 84171.48, 84248.49, 84299.64, 84200.86, 84121.77, 84165.93, 83932.01, 83922.43, 84024.81, 84242.36, 84459.99, 84443.33, 84815.0, 84395.82, 84486.58, 84325.02, 84355.12, 84428.66, 84576.01, 84814.0, 84776.0, 84614.0, 84424.0, 84031.38]\n",
      "Predicted price list: [None, 84351.8671875, 84220.375, 84252.1015625, 84343.3984375, 84362.515625, 84454.2421875, 84528.1484375, 84551.390625, 84546.4609375, 84476.671875, 84361.6953125, 84297.5859375, 84278.7890625, 84311.5390625, 84327.0546875, 84314.9609375, 84334.4765625, 84213.6484375, 84161.109375, 84134.0625, 84175.9375, 84256.0859375, 84326.5546875, 84495.4765625, 84713.5390625, 84656.3515625, 84588.4921875, 84537.1328125, 84511.171875, 84525.328125, 84589.375, 84671.578125, 84720.953125, 84721.7734375]\n",
      "Prediction: 84637.5625\n",
      "Money list: [1000, 0, 1003.9484436232419, 0, 1000.5919059419107, 0, 1000.7237743154508, 0]\n",
      "Coins list: [0, 0.011907032181168056, 0, 0.01188942830473116, 0, 0.011844085572436748, 0, 0.011841692534600769]\n",
      "\n",
      "\n",
      "-----------------------\n",
      "\n",
      "\n"
     ]
    },
    {
     "name": "stderr",
     "output_type": "stream",
     "text": [
      "C:\\Users\\userr\\AppData\\Local\\Temp\\ipykernel_11812\\1969906219.py:50: FutureWarning: Series.__getitem__ treating keys as positions is deprecated. In a future version, integer keys will always be treated as labels (consistent with DataFrame behavior). To access a value by position, use `ser.iloc[pos]`\n",
      "  real_price.append(float(btc.iloc[:]['close'][-1]))\n"
     ]
    },
    {
     "name": "stdout",
     "output_type": "stream",
     "text": [
      "Real price list: [83900.0, 84090.9, 84399.99, 84474.0, 84381.71, 84408.79, 84430.0, 84489.61, 84355.99, 84160.0, 84002.01, 84171.48, 84248.49, 84299.64, 84200.86, 84121.77, 84165.93, 83932.01, 83922.43, 84024.81, 84242.36, 84459.99, 84443.33, 84815.0, 84395.82, 84486.58, 84325.02, 84355.12, 84428.66, 84576.01, 84814.0, 84776.0, 84614.0, 84424.0, 84031.38, 84073.99]\n",
      "Predicted price list: [None, 84351.8671875, 84220.375, 84252.1015625, 84343.3984375, 84362.515625, 84454.2421875, 84528.1484375, 84551.390625, 84546.4609375, 84476.671875, 84361.6953125, 84297.5859375, 84278.7890625, 84311.5390625, 84327.0546875, 84314.9609375, 84334.4765625, 84213.6484375, 84161.109375, 84134.0625, 84175.9375, 84256.0859375, 84326.5546875, 84495.4765625, 84713.5390625, 84656.3515625, 84588.4921875, 84537.1328125, 84511.171875, 84525.328125, 84589.375, 84671.578125, 84720.953125, 84721.7734375, 84637.5625]\n",
      "Prediction: 84516.734375\n",
      "Money list: [1000, 0, 1003.9484436232419, 0, 1000.5919059419107, 0, 1000.7237743154508, 0]\n",
      "Coins list: [0, 0.011907032181168056, 0, 0.01188942830473116, 0, 0.011844085572436748, 0, 0.011841692534600769]\n",
      "\n",
      "\n",
      "-----------------------\n",
      "\n",
      "\n"
     ]
    }
   ],
   "source": [
    "#simple trading strategy: \n",
    "#we have 1000$ at initial state\n",
    "#we spend all money to buy bitcoin when model predict that price will increase more than to fees (one for buy and another one for sell) of actual price\n",
    "#than we sell all bitcoins when model predict than price will decrease\n",
    "#we collect data and predict new price every thirty minutes\n",
    "money = 1000\n",
    "coins = 0\n",
    "\n",
    "want_buy_flg = 1\n",
    "\n",
    "money_list = [1000]\n",
    "coins_list = [0]\n",
    "\n",
    "real_price = []\n",
    "predicted_price = [None]\n",
    "\n",
    "fee_percent = 0.001\n",
    "\n",
    "while True:\n",
    "    client = Client()\n",
    "\n",
    "    lookback_interval = 16\n",
    "    symbol = 'BTCUSDT'\n",
    "    interval = client.KLINE_INTERVAL_30MINUTE   \n",
    "    \n",
    "    all_data = pd.DataFrame()\n",
    "    end_time = pd.Timestamp.utcnow().tz_localize(None) \n",
    "    start_time = end_time - pd.Timedelta(hours = 8)\n",
    "    while start_time < end_time:\n",
    "        start_str = str(int(start_time.timestamp() * 1000))\n",
    "    \n",
    "        klines = client.get_historical_klines(symbol, interval, start_str, limit = 1000)\n",
    "    \n",
    "        if not klines:\n",
    "            break\n",
    "    \n",
    "        data = pd.DataFrame(klines, columns = [\n",
    "                                                'timestamp', 'open', 'high', 'low', 'close', 'volume', 'close_time', \n",
    "                                                'quote_asset_volume', 'number_of_trades', 'taker_buy_base_asset_volume',\n",
    "                                                'taker_buy_quote_asset_volume', 'ignore'\n",
    "                                              ])\n",
    "    \n",
    "        data['timestamp'] = pd.to_datetime(data['timestamp'], unit='ms')\n",
    "        data.set_index('timestamp', inplace=True)\n",
    "        data = data.apply(pd.to_numeric, errors = 'coerce')\n",
    "    \n",
    "        all_data = pd.concat([all_data, data])\n",
    "    \n",
    "        start_time = data.index[-1] + pd.Timedelta(minutes = 5)\n",
    "    \n",
    "        time.sleep(0.5)\n",
    "    \n",
    "    btc = all_data.sort_index().ffill()\n",
    "    \n",
    "    real_price.append(float(btc.iloc[:]['close'][-1]))\n",
    "\n",
    "    print(f'Real price list: {real_price}')\n",
    "    print(f'Predicted price list: {predicted_price}')\n",
    "    \n",
    "    scaled_btc = scaler.transform(btc[['close']])\n",
    "    scaled_btc = np.array(scaled_btc)\n",
    "    scaled_prediction = model.predict(np.array([scaled_btc]), verbose = None)\n",
    "    prediction = scaler.inverse_transform(scaled_prediction)[0][0]\n",
    "\n",
    "    predicted_price.append(float(prediction))\n",
    "\n",
    "\n",
    "    print(f'Prediction: {float(prediction)}')\n",
    "\n",
    "    if (predicted_price[-1] * (1.00 - (2 * fee_percent))  > real_price[-1]) and want_buy_flg == 1:\n",
    "        coins = (money / real_price[-1]) * (1.00 - fee_percent)\n",
    "        coins_list.append(coins)\n",
    "        money = 0\n",
    "        money_list.append(money)\n",
    "        want_buy_flg = 0\n",
    "\n",
    "    if (predicted_price[-1]  < real_price[-1]) and want_buy_flg == 0:\n",
    "        money = (real_price[-1] * coins) * (1.00 - fee_percent)\n",
    "        money_list.append(money)\n",
    "        coins = 0\n",
    "        coins_list.append(coins)\n",
    "        want_buy_flg = 1\n",
    "\n",
    "    print(f'Money list: {money_list}')\n",
    "    print(f'Coins list: {coins_list}')\n",
    "\n",
    "    print('\\n')\n",
    "    print('-----------------------')\n",
    "    print('\\n')\n",
    "\n",
    "    for i in range(150):\n",
    "        time.sleep(12)"
   ]
  },
  {
   "cell_type": "code",
   "execution_count": null,
   "id": "ed75c6b7-74ff-40e8-a69d-25d7c21d45cb",
   "metadata": {},
   "outputs": [],
   "source": []
  }
 ],
 "metadata": {
  "kernelspec": {
   "display_name": "Python 3 (ipykernel)",
   "language": "python",
   "name": "python3"
  },
  "language_info": {
   "codemirror_mode": {
    "name": "ipython",
    "version": 3
   },
   "file_extension": ".py",
   "mimetype": "text/x-python",
   "name": "python",
   "nbconvert_exporter": "python",
   "pygments_lexer": "ipython3",
   "version": "3.11.11"
  }
 },
 "nbformat": 4,
 "nbformat_minor": 5
}
